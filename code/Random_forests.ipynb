{
 "cells": [
  {
   "cell_type": "code",
   "execution_count": 1,
   "metadata": {},
   "outputs": [],
   "source": [
    "import pandas as pd\n",
    "import numpy as np\n",
    "from sklearn.feature_extraction.text import CountVectorizer, TfidfVectorizer\n",
    "\n",
    "from sklearn.ensemble import RandomForestClassifier\n",
    "from xgboost import XGBClassifier\n",
    "\n",
    "from sklearn.pipeline import Pipeline\n",
    "from sklearn.model_selection import GridSearchCV, cross_val_score, train_test_split\n",
    "\n",
    "from sklearn.metrics import confusion_matrix\n",
    "import shap"
   ]
  },
  {
   "cell_type": "code",
   "execution_count": 3,
   "metadata": {},
   "outputs": [
    {
     "data": {
      "text/html": [
       "<div>\n",
       "<style scoped>\n",
       "    .dataframe tbody tr th:only-of-type {\n",
       "        vertical-align: middle;\n",
       "    }\n",
       "\n",
       "    .dataframe tbody tr th {\n",
       "        vertical-align: top;\n",
       "    }\n",
       "\n",
       "    .dataframe thead th {\n",
       "        text-align: right;\n",
       "    }\n",
       "</style>\n",
       "<table border=\"1\" class=\"dataframe\">\n",
       "  <thead>\n",
       "    <tr style=\"text-align: right;\">\n",
       "      <th></th>\n",
       "      <th>Unnamed: 0</th>\n",
       "      <th>created_at</th>\n",
       "      <th>text_clean</th>\n",
       "      <th>label</th>\n",
       "    </tr>\n",
       "  </thead>\n",
       "  <tbody>\n",
       "    <tr>\n",
       "      <td>0</td>\n",
       "      <td>0</td>\n",
       "      <td>2018-07-23 14:42:01</td>\n",
       "      <td>There are ways for Colorado residents to stret...</td>\n",
       "      <td>1</td>\n",
       "    </tr>\n",
       "    <tr>\n",
       "      <td>1</td>\n",
       "      <td>1</td>\n",
       "      <td>2018-07-23 14:20:16</td>\n",
       "      <td>RT Residents flee wildfire raging west of Athens</td>\n",
       "      <td>1</td>\n",
       "    </tr>\n",
       "    <tr>\n",
       "      <td>2</td>\n",
       "      <td>2</td>\n",
       "      <td>2018-07-23 14:08:16</td>\n",
       "      <td>Canada B C s Okanagan braces for more wildfires</td>\n",
       "      <td>1</td>\n",
       "    </tr>\n",
       "    <tr>\n",
       "      <td>3</td>\n",
       "      <td>3</td>\n",
       "      <td>2018-07-23 14:11:44</td>\n",
       "      <td>Evacuation orders as Ontario s wildfires keep ...</td>\n",
       "      <td>1</td>\n",
       "    </tr>\n",
       "    <tr>\n",
       "      <td>4</td>\n",
       "      <td>4</td>\n",
       "      <td>2018-07-23 08:21:09</td>\n",
       "      <td>RT How rewildling can prevent wildfires</td>\n",
       "      <td>1</td>\n",
       "    </tr>\n",
       "  </tbody>\n",
       "</table>\n",
       "</div>"
      ],
      "text/plain": [
       "   Unnamed: 0           created_at  \\\n",
       "0           0  2018-07-23 14:42:01   \n",
       "1           1  2018-07-23 14:20:16   \n",
       "2           2  2018-07-23 14:08:16   \n",
       "3           3  2018-07-23 14:11:44   \n",
       "4           4  2018-07-23 08:21:09   \n",
       "\n",
       "                                          text_clean  label  \n",
       "0  There are ways for Colorado residents to stret...      1  \n",
       "1   RT Residents flee wildfire raging west of Athens      1  \n",
       "2    Canada B C s Okanagan braces for more wildfires      1  \n",
       "3  Evacuation orders as Ontario s wildfires keep ...      1  \n",
       "4            RT How rewildling can prevent wildfires      1  "
      ]
     },
     "execution_count": 3,
     "metadata": {},
     "output_type": "execute_result"
    }
   ],
   "source": [
    "# Load the training set data\n",
    "df = pd.read_csv('../DisasterAlert/Training_set_withtime.csv')\n",
    "df.head()"
   ]
  },
  {
   "cell_type": "code",
   "execution_count": 4,
   "metadata": {},
   "outputs": [],
   "source": [
    "df.drop(columns='Unnamed: 0',inplace=True)"
   ]
  },
  {
   "cell_type": "code",
   "execution_count": 5,
   "metadata": {},
   "outputs": [],
   "source": [
    "# Choose X and y as training vectors\n",
    "X = df['text_clean']\n",
    "y = df['label']"
   ]
  },
  {
   "cell_type": "code",
   "execution_count": 6,
   "metadata": {},
   "outputs": [
    {
     "data": {
      "text/plain": [
       "(6616,)"
      ]
     },
     "execution_count": 6,
     "metadata": {},
     "output_type": "execute_result"
    }
   ],
   "source": [
    "X.shape"
   ]
  },
  {
   "cell_type": "code",
   "execution_count": 8,
   "metadata": {},
   "outputs": [
    {
     "data": {
      "text/html": [
       "<div>\n",
       "<style scoped>\n",
       "    .dataframe tbody tr th:only-of-type {\n",
       "        vertical-align: middle;\n",
       "    }\n",
       "\n",
       "    .dataframe tbody tr th {\n",
       "        vertical-align: top;\n",
       "    }\n",
       "\n",
       "    .dataframe thead th {\n",
       "        text-align: right;\n",
       "    }\n",
       "</style>\n",
       "<table border=\"1\" class=\"dataframe\">\n",
       "  <thead>\n",
       "    <tr style=\"text-align: right;\">\n",
       "      <th></th>\n",
       "      <th>date</th>\n",
       "      <th>text_clean</th>\n",
       "      <th>label</th>\n",
       "    </tr>\n",
       "  </thead>\n",
       "  <tbody>\n",
       "    <tr>\n",
       "      <td>0</td>\n",
       "      <td>2019-02-03 09:00:00+00:00</td>\n",
       "      <td>Btw jgh</td>\n",
       "      <td>0</td>\n",
       "    </tr>\n",
       "    <tr>\n",
       "      <td>1</td>\n",
       "      <td>2019-02-03 09:00:00+00:00</td>\n",
       "      <td>New Words amp Pictures out today Follow this l...</td>\n",
       "      <td>0</td>\n",
       "    </tr>\n",
       "    <tr>\n",
       "      <td>2</td>\n",
       "      <td>2019-02-03 09:00:00+00:00</td>\n",
       "      <td>Weekends are made for adventures We take a fin...</td>\n",
       "      <td>0</td>\n",
       "    </tr>\n",
       "    <tr>\n",
       "      <td>3</td>\n",
       "      <td>2019-02-03 09:00:00+00:00</td>\n",
       "      <td>China s surge in global university rankings ha...</td>\n",
       "      <td>0</td>\n",
       "    </tr>\n",
       "    <tr>\n",
       "      <td>4</td>\n",
       "      <td>2019-02-03 09:00:00+00:00</td>\n",
       "      <td>4 2 days until LIGHTS OUT in Australia Six wee...</td>\n",
       "      <td>0</td>\n",
       "    </tr>\n",
       "  </tbody>\n",
       "</table>\n",
       "</div>"
      ],
      "text/plain": [
       "                        date  \\\n",
       "0  2019-02-03 09:00:00+00:00   \n",
       "1  2019-02-03 09:00:00+00:00   \n",
       "2  2019-02-03 09:00:00+00:00   \n",
       "3  2019-02-03 09:00:00+00:00   \n",
       "4  2019-02-03 09:00:00+00:00   \n",
       "\n",
       "                                          text_clean  label  \n",
       "0                                            Btw jgh      0  \n",
       "1  New Words amp Pictures out today Follow this l...      0  \n",
       "2  Weekends are made for adventures We take a fin...      0  \n",
       "3  China s surge in global university rankings ha...      0  \n",
       "4  4 2 days until LIGHTS OUT in Australia Six wee...      0  "
      ]
     },
     "execution_count": 8,
     "metadata": {},
     "output_type": "execute_result"
    }
   ],
   "source": [
    "# Load the testing set\n",
    "df_test = pd.read_csv('./test_data_Feb3rd_2019.csv')\n",
    "df_test.head()"
   ]
  },
  {
   "cell_type": "code",
   "execution_count": 59,
   "metadata": {},
   "outputs": [],
   "source": [
    "#df_test.drop(columns='Unnamed: 0',inplace =True)"
   ]
  },
  {
   "cell_type": "code",
   "execution_count": 9,
   "metadata": {},
   "outputs": [
    {
     "data": {
      "text/plain": [
       "(173915,)"
      ]
     },
     "execution_count": 9,
     "metadata": {},
     "output_type": "execute_result"
    }
   ],
   "source": [
    "X_test = df_test['text_clean']\n",
    "X_test.shape"
   ]
  },
  {
   "cell_type": "code",
   "execution_count": 22,
   "metadata": {},
   "outputs": [],
   "source": [
    "y_test = df_test['label']"
   ]
  },
  {
   "cell_type": "markdown",
   "metadata": {},
   "source": [
    "## Use CountVectorizer"
   ]
  },
  {
   "cell_type": "code",
   "execution_count": 12,
   "metadata": {},
   "outputs": [],
   "source": [
    "# Put the words with location into the stop words to get rid of the effect of them in the model fitting\n",
    "from sklearn.feature_extraction import text \n",
    "stop_words_new = text.ENGLISH_STOP_WORDS.union({'greece', 'athens', 'greek'})"
   ]
  },
  {
   "cell_type": "code",
   "execution_count": 13,
   "metadata": {},
   "outputs": [
    {
     "data": {
      "text/plain": [
       "<6616x200 sparse matrix of type '<class 'numpy.int64'>'\n",
       "\twith 14554 stored elements in Compressed Sparse Row format>"
      ]
     },
     "execution_count": 13,
     "metadata": {},
     "output_type": "execute_result"
    }
   ],
   "source": [
    "# Instantiate the CountVectorizer, fit and tranform X(training set)\n",
    "cvec_new = CountVectorizer(stop_words = stop_words_new, max_features=200)\n",
    "X_cvec_new = cvec_new.fit_transform(X)\n",
    "X_cvec_new"
   ]
  },
  {
   "cell_type": "code",
   "execution_count": 14,
   "metadata": {},
   "outputs": [],
   "source": [
    "# Transform the test set\n",
    "X_cvec_test = cvec_new.transform(X_test.values.astype('U'))"
   ]
  },
  {
   "cell_type": "code",
   "execution_count": 15,
   "metadata": {},
   "outputs": [
    {
     "data": {
      "text/plain": [
       "RandomForestClassifier(bootstrap=True, ccp_alpha=0.0, class_weight=None,\n",
       "                       criterion='gini', max_depth=None, max_features='auto',\n",
       "                       max_leaf_nodes=None, max_samples=None,\n",
       "                       min_impurity_decrease=0.0, min_impurity_split=None,\n",
       "                       min_samples_leaf=1, min_samples_split=2,\n",
       "                       min_weight_fraction_leaf=0.0, n_estimators=150,\n",
       "                       n_jobs=None, oob_score=False, random_state=None,\n",
       "                       verbose=0, warm_start=False)"
      ]
     },
     "execution_count": 15,
     "metadata": {},
     "output_type": "execute_result"
    }
   ],
   "source": [
    "# after GridSearch, the best parameter in RandomForestClassifier is 'max_depth': None, 'n_estimators': 150\n",
    "rf_cvec_new =RandomForestClassifier(n_estimators=150)\n",
    "rf_cvec_new.fit(X_cvec_new, y)"
   ]
  },
  {
   "cell_type": "code",
   "execution_count": 44,
   "metadata": {},
   "outputs": [
    {
     "data": {
      "text/plain": [
       "0.9963732511849208"
      ]
     },
     "execution_count": 44,
     "metadata": {},
     "output_type": "execute_result"
    }
   ],
   "source": [
    "# Use cross validate, cv=10, the mean value of accuracy is 0.996\n",
    "cross_val_score(rf_cvec_new, X_cvec_new, y, cv=10).mean()"
   ]
  },
  {
   "cell_type": "code",
   "execution_count": 34,
   "metadata": {},
   "outputs": [
    {
     "name": "stdout",
     "output_type": "stream",
     "text": [
      "The accuracy of training with more stop words is 0.998\n"
     ]
    }
   ],
   "source": [
    "#print(f'The accuracy of training is {round(rf_cvec.score(X_cvec, y),3)}')\n",
    "print(f'The accuracy of training with more stop words is {round(rf_cvec_new.score(X_cvec_new, y),3)}')"
   ]
  },
  {
   "cell_type": "code",
   "execution_count": 16,
   "metadata": {},
   "outputs": [],
   "source": [
    "# predictions for test set\n",
    "y_preds_test = rf_cvec_new.predict(X_cvec_test)"
   ]
  },
  {
   "cell_type": "code",
   "execution_count": 17,
   "metadata": {},
   "outputs": [
    {
     "data": {
      "text/plain": [
       "41"
      ]
     },
     "execution_count": 17,
     "metadata": {},
     "output_type": "execute_result"
    }
   ],
   "source": [
    "# Generate the number of positive predictions in test set\n",
    "np.count_nonzero(y_preds_test == 1)"
   ]
  },
  {
   "cell_type": "code",
   "execution_count": 18,
   "metadata": {},
   "outputs": [],
   "source": [
    "df_test['preds'] = y_preds_test"
   ]
  },
  {
   "cell_type": "code",
   "execution_count": 19,
   "metadata": {},
   "outputs": [
    {
     "data": {
      "text/html": [
       "<div>\n",
       "<style scoped>\n",
       "    .dataframe tbody tr th:only-of-type {\n",
       "        vertical-align: middle;\n",
       "    }\n",
       "\n",
       "    .dataframe tbody tr th {\n",
       "        vertical-align: top;\n",
       "    }\n",
       "\n",
       "    .dataframe thead th {\n",
       "        text-align: right;\n",
       "    }\n",
       "</style>\n",
       "<table border=\"1\" class=\"dataframe\">\n",
       "  <thead>\n",
       "    <tr style=\"text-align: right;\">\n",
       "      <th></th>\n",
       "      <th>date</th>\n",
       "      <th>text_clean</th>\n",
       "      <th>label</th>\n",
       "      <th>preds</th>\n",
       "    </tr>\n",
       "  </thead>\n",
       "  <tbody>\n",
       "    <tr>\n",
       "      <td>0</td>\n",
       "      <td>2019-02-03 09:00:00+00:00</td>\n",
       "      <td>Btw jgh</td>\n",
       "      <td>0</td>\n",
       "      <td>0</td>\n",
       "    </tr>\n",
       "    <tr>\n",
       "      <td>1</td>\n",
       "      <td>2019-02-03 09:00:00+00:00</td>\n",
       "      <td>New Words amp Pictures out today Follow this l...</td>\n",
       "      <td>0</td>\n",
       "      <td>0</td>\n",
       "    </tr>\n",
       "    <tr>\n",
       "      <td>2</td>\n",
       "      <td>2019-02-03 09:00:00+00:00</td>\n",
       "      <td>Weekends are made for adventures We take a fin...</td>\n",
       "      <td>0</td>\n",
       "      <td>0</td>\n",
       "    </tr>\n",
       "    <tr>\n",
       "      <td>3</td>\n",
       "      <td>2019-02-03 09:00:00+00:00</td>\n",
       "      <td>China s surge in global university rankings ha...</td>\n",
       "      <td>0</td>\n",
       "      <td>0</td>\n",
       "    </tr>\n",
       "    <tr>\n",
       "      <td>4</td>\n",
       "      <td>2019-02-03 09:00:00+00:00</td>\n",
       "      <td>4 2 days until LIGHTS OUT in Australia Six wee...</td>\n",
       "      <td>0</td>\n",
       "      <td>0</td>\n",
       "    </tr>\n",
       "  </tbody>\n",
       "</table>\n",
       "</div>"
      ],
      "text/plain": [
       "                        date  \\\n",
       "0  2019-02-03 09:00:00+00:00   \n",
       "1  2019-02-03 09:00:00+00:00   \n",
       "2  2019-02-03 09:00:00+00:00   \n",
       "3  2019-02-03 09:00:00+00:00   \n",
       "4  2019-02-03 09:00:00+00:00   \n",
       "\n",
       "                                          text_clean  label  preds  \n",
       "0                                            Btw jgh      0      0  \n",
       "1  New Words amp Pictures out today Follow this l...      0      0  \n",
       "2  Weekends are made for adventures We take a fin...      0      0  \n",
       "3  China s surge in global university rankings ha...      0      0  \n",
       "4  4 2 days until LIGHTS OUT in Australia Six wee...      0      0  "
      ]
     },
     "execution_count": 19,
     "metadata": {},
     "output_type": "execute_result"
    }
   ],
   "source": [
    "df_test.head()"
   ]
  },
  {
   "cell_type": "code",
   "execution_count": 21,
   "metadata": {},
   "outputs": [
    {
     "data": {
      "text/plain": [
       "0    173909\n",
       "1         6\n",
       "Name: label, dtype: int64"
      ]
     },
     "execution_count": 21,
     "metadata": {},
     "output_type": "execute_result"
    }
   ],
   "source": [
    "df_test['label'].value_counts()"
   ]
  },
  {
   "cell_type": "code",
   "execution_count": 23,
   "metadata": {},
   "outputs": [
    {
     "name": "stdout",
     "output_type": "stream",
     "text": [
      "[[173874     35]\n",
      " [     0      6]]\n",
      "******************************\n",
      "Ture Negative 173874\n",
      " Flase Negative 0\n",
      " True Positive 6 \n",
      " False Positive 35\n"
     ]
    }
   ],
   "source": [
    "# The metrics of RandomForests for the test set\n",
    "y_preds_test = rf_cvec_new.predict(X_cvec_test)\n",
    "print(confusion_matrix(y_test, y_preds_test))\n",
    "print('*'*30)\n",
    "[[tn, fp],[fn, tp] ]= confusion_matrix(y_test, y_preds_test)\n",
    "print(f'Ture Negative {tn}\\n Flase Negative {fn}\\n True Positive {tp} \\n False Positive {fp}')"
   ]
  },
  {
   "cell_type": "code",
   "execution_count": 59,
   "metadata": {},
   "outputs": [
    {
     "data": {
      "text/html": [
       "[0.3356, 0.1699, 0.1545, 0.0704, 0.0413, 0.0276, 0.0186, 0.0149, 0.0119, 0.0109, 0.0101, 0.0091, 0.0091, 0.0077, 0.0069, 0.0068, 0.0067, 0.0059, 0.0049, 0.0042]"
      ],
      "text/plain": [
       "[0.3356,\n",
       " 0.1699,\n",
       " 0.1545,\n",
       " 0.0704,\n",
       " 0.0413,\n",
       " 0.0276,\n",
       " 0.0186,\n",
       " 0.0149,\n",
       " 0.0119,\n",
       " 0.0109,\n",
       " 0.0101,\n",
       " 0.0091,\n",
       " 0.0091,\n",
       " 0.0077,\n",
       " 0.0069,\n",
       " 0.0068,\n",
       " 0.0067,\n",
       " 0.0059,\n",
       " 0.0049,\n",
       " 0.0042]"
      ]
     },
     "execution_count": 59,
     "metadata": {},
     "output_type": "execute_result"
    }
   ],
   "source": [
    "# Find the top 20 important words \n",
    "import seaborn as sns\n",
    "feature_import_list = sorted(zip(map(lambda x: round(x, 4), rf_cvec.feature_importances_), names_new), reverse=True)\n",
    "feature_import = feature_import_list[:20]\n",
    "feature_name = []\n",
    "importance_value = []\n",
    "for i in range(20):\n",
    "    importance_value.append(feature_import[i][0])\n",
    "    feature_name.append(feature_import[i][1])\n",
    "feature_name\n",
    "importance_value"
   ]
  },
  {
   "cell_type": "code",
   "execution_count": 63,
   "metadata": {},
   "outputs": [
    {
     "data": {
      "image/png": "[encoded data removed]",
      "text/plain": [
       "<Figure size 1008x432 with 1 Axes>"
      ]
     },
     "metadata": {
      "needs_background": "light"
     },
     "output_type": "display_data"
    }
   ],
   "source": [
    "import matplotlib.pyplot as plt\n",
    "plt.figure(figsize = (14,6))\n",
    "sns.barplot(x=feature_name, y=importance_value);"
   ]
  },
  {
   "cell_type": "code",
   "execution_count": 67,
   "metadata": {},
   "outputs": [
    {
     "data": {
      "text/plain": [
       "GridSearchCV(cv=5, error_score=nan,\n",
       "             estimator=RandomForestClassifier(bootstrap=True, ccp_alpha=0.0,\n",
       "                                              class_weight=None,\n",
       "                                              criterion='gini', max_depth=None,\n",
       "                                              max_features='auto',\n",
       "                                              max_leaf_nodes=None,\n",
       "                                              max_samples=None,\n",
       "                                              min_impurity_decrease=0.0,\n",
       "                                              min_impurity_split=None,\n",
       "                                              min_samples_leaf=1,\n",
       "                                              min_samples_split=2,\n",
       "                                              min_weight_fraction_leaf=0.0,\n",
       "                                              n_estimators=100, n_jobs=None,\n",
       "                                              oob_score=False,\n",
       "                                              random_state=None, verbose=0,\n",
       "                                              warm_start=False),\n",
       "             iid='deprecated', n_jobs=None,\n",
       "             param_grid={'max_depth': [None, 1, 2, 3, 4, 5],\n",
       "                         'n_estimators': [100, 150, 200]},\n",
       "             pre_dispatch='2*n_jobs', refit=True, return_train_score=False,\n",
       "             scoring=None, verbose=0)"
      ]
     },
     "execution_count": 67,
     "metadata": {},
     "output_type": "execute_result"
    }
   ],
   "source": [
    "# Use GridSearchCV to tuning the best parameters in RandomForestsClassifier\n",
    "rf_params = {\n",
    "    'n_estimators':[100,150,200],\n",
    "    'max_depth':[None, 1,2,3,4,5]\n",
    "}\n",
    "\n",
    "gs = GridSearchCV(rf_cvec, \n",
    "                 param_grid=rf_params,\n",
    "                 cv=5)\n",
    "\n",
    "gs.fit(X_cvec, y)"
   ]
  },
  {
   "cell_type": "code",
   "execution_count": 68,
   "metadata": {},
   "outputs": [
    {
     "name": "stdout",
     "output_type": "stream",
     "text": [
      "The best score of gridsearch is 0.99637268133168\n",
      "The best parameter of gridsearch is {'max_depth': None, 'n_estimators': 150}\n"
     ]
    }
   ],
   "source": [
    "print(f'The best score of gridsearch is {gs.best_score_}')\n",
    "print(f'The best parameter of gridsearch is {gs.best_params_}')"
   ]
  },
  {
   "cell_type": "markdown",
   "metadata": {},
   "source": [
    "## Use TfidfVectorizer"
   ]
  },
  {
   "cell_type": "code",
   "execution_count": 64,
   "metadata": {},
   "outputs": [
    {
     "data": {
      "text/plain": [
       "RandomForestClassifier(bootstrap=True, ccp_alpha=0.0, class_weight=None,\n",
       "                       criterion='gini', max_depth=None, max_features='auto',\n",
       "                       max_leaf_nodes=None, max_samples=None,\n",
       "                       min_impurity_decrease=0.0, min_impurity_split=None,\n",
       "                       min_samples_leaf=1, min_samples_split=2,\n",
       "                       min_weight_fraction_leaf=0.0, n_estimators=100,\n",
       "                       n_jobs=None, oob_score=False, random_state=None,\n",
       "                       verbose=0, warm_start=False)"
      ]
     },
     "execution_count": 64,
     "metadata": {},
     "output_type": "execute_result"
    }
   ],
   "source": [
    "tfidf = TfidfVectorizer(stop_words = stop_words_new, max_features=200)\n",
    "X_tfidf = tfidf.fit_transform(X)\n",
    "rf_tfidf = RandomForestClassifier()\n",
    "rf_tfidf.fit(X_tfidf, y)"
   ]
  },
  {
   "cell_type": "code",
   "execution_count": 65,
   "metadata": {},
   "outputs": [
    {
     "data": {
      "text/plain": [
       "0.9960706793241039"
      ]
     },
     "execution_count": 65,
     "metadata": {},
     "output_type": "execute_result"
    }
   ],
   "source": [
    "cross_val_score(rf_tfidf, X_tfidf, y, cv=10).mean()"
   ]
  },
  {
   "cell_type": "code",
   "execution_count": 66,
   "metadata": {},
   "outputs": [
    {
     "name": "stdout",
     "output_type": "stream",
     "text": [
      "The accuracy of training is 0.998\n",
      "[[6000    0]\n",
      " [  10  606]]\n",
      "******************************\n",
      "Ture Negative 6000\n",
      " Flase Negative 10\n",
      " True Positive 606 \n",
      " False Positive 0\n"
     ]
    }
   ],
   "source": [
    "print(f'The accuracy of training is {round(rf_tfidf.score(X_tfidf, y),3)}')\n",
    "y_preds1 = rf_tfidf.predict(X_tfidf)\n",
    "print(confusion_matrix(y, y_preds1))\n",
    "print('*'*30)\n",
    "[[tn, fp],[fn, tp] ]= confusion_matrix(y, y_preds1)\n",
    "print(f'Ture Negative {tn}\\n Flase Negative {fn}\\n True Positive {tp} \\n False Positive {fp}')"
   ]
  },
  {
   "cell_type": "markdown",
   "metadata": {},
   "source": [
    "## The accuracy of training set with different Vectorizer has no significant difference. So I choose CountVectorizer for training set"
   ]
  },
  {
   "cell_type": "code",
   "execution_count": null,
   "metadata": {},
   "outputs": [],
   "source": []
  }
 ],
 "metadata": {
  "kernelspec": {
   "display_name": "Python 3",
   "language": "python",
   "name": "python3"
  },
  "language_info": {
   "codemirror_mode": {
    "name": "ipython",
    "version": 3
   },
   "file_extension": ".py",
   "mimetype": "text/x-python",
   "name": "python",
   "nbconvert_exporter": "python",
   "pygments_lexer": "ipython3",
   "version": "3.7.4"
  }
 },
 "nbformat": 4,
 "nbformat_minor": 2
}
