{
 "cells": [
  {
   "cell_type": "code",
   "execution_count": 2,
   "metadata": {},
   "outputs": [],
   "source": [
    "import pandas as pd\n",
    "import re"
   ]
  },
  {
   "cell_type": "code",
   "execution_count": 3,
   "metadata": {},
   "outputs": [],
   "source": [
    "# Load the csv file of July 23rd and july 24th from dataset\n",
    "df_23 = pd.read_csv('../data/eng_tweets/tweets_processed_2018_07_23.csv',engine='python',header =None ,names = ['created_at','location','text'])"
   ]
  },
  {
   "cell_type": "code",
   "execution_count": 4,
   "metadata": {},
   "outputs": [],
   "source": [
    "df_24 = pd.read_csv('../data/eng_tweets/tweets_processed_2018_07_24.csv',engine='python',header =None ,names = ['created_at','location','text'])"
   ]
  },
  {
   "cell_type": "code",
   "execution_count": 5,
   "metadata": {},
   "outputs": [
    {
     "data": {
      "text/html": [
       "<div>\n",
       "<style scoped>\n",
       "    .dataframe tbody tr th:only-of-type {\n",
       "        vertical-align: middle;\n",
       "    }\n",
       "\n",
       "    .dataframe tbody tr th {\n",
       "        vertical-align: top;\n",
       "    }\n",
       "\n",
       "    .dataframe thead th {\n",
       "        text-align: right;\n",
       "    }\n",
       "</style>\n",
       "<table border=\"1\" class=\"dataframe\">\n",
       "  <thead>\n",
       "    <tr style=\"text-align: right;\">\n",
       "      <th></th>\n",
       "      <th>created_at</th>\n",
       "      <th>location</th>\n",
       "      <th>text</th>\n",
       "    </tr>\n",
       "  </thead>\n",
       "  <tbody>\n",
       "    <tr>\n",
       "      <td>2</td>\n",
       "      <td>2018-07-23 14:25:00</td>\n",
       "      <td>NaN</td>\n",
       "      <td>RT @Louis_Tomlinson: And remember if it’s by o...</td>\n",
       "    </tr>\n",
       "    <tr>\n",
       "      <td>3</td>\n",
       "      <td>2018-07-23 14:25:00</td>\n",
       "      <td>NaN</td>\n",
       "      <td>RT @skiIIer: what da h*ck https://t.co/M2lzWy6Jez</td>\n",
       "    </tr>\n",
       "    <tr>\n",
       "      <td>4</td>\n",
       "      <td>2018-07-23 14:25:00</td>\n",
       "      <td>NaN</td>\n",
       "      <td>RT @Vicky_SoLegit: Lmfao #Zoomchallenge i clea...</td>\n",
       "    </tr>\n",
       "    <tr>\n",
       "      <td>6</td>\n",
       "      <td>2018-07-23 14:25:00</td>\n",
       "      <td>NaN</td>\n",
       "      <td>RT @BTCalgary: Drive times at 8:19am #YYC #YYC...</td>\n",
       "    </tr>\n",
       "    <tr>\n",
       "      <td>10</td>\n",
       "      <td>2018-07-23 14:25:00</td>\n",
       "      <td>NaN</td>\n",
       "      <td>#TheFourComeBack I want #Whitney to return to ...</td>\n",
       "    </tr>\n",
       "  </tbody>\n",
       "</table>\n",
       "</div>"
      ],
      "text/plain": [
       "             created_at location  \\\n",
       "2   2018-07-23 14:25:00      NaN   \n",
       "3   2018-07-23 14:25:00      NaN   \n",
       "4   2018-07-23 14:25:00      NaN   \n",
       "6   2018-07-23 14:25:00      NaN   \n",
       "10  2018-07-23 14:25:00      NaN   \n",
       "\n",
       "                                                 text  \n",
       "2   RT @Louis_Tomlinson: And remember if it’s by o...  \n",
       "3   RT @skiIIer: what da h*ck https://t.co/M2lzWy6Jez  \n",
       "4   RT @Vicky_SoLegit: Lmfao #Zoomchallenge i clea...  \n",
       "6   RT @BTCalgary: Drive times at 8:19am #YYC #YYC...  \n",
       "10  #TheFourComeBack I want #Whitney to return to ...  "
      ]
     },
     "execution_count": 5,
     "metadata": {},
     "output_type": "execute_result"
    }
   ],
   "source": [
    "# The structure of the dataframe\n",
    "df_23.head()"
   ]
  },
  {
   "cell_type": "code",
   "execution_count": 6,
   "metadata": {},
   "outputs": [
    {
     "data": {
      "text/html": [
       "<div>\n",
       "<style scoped>\n",
       "    .dataframe tbody tr th:only-of-type {\n",
       "        vertical-align: middle;\n",
       "    }\n",
       "\n",
       "    .dataframe tbody tr th {\n",
       "        vertical-align: top;\n",
       "    }\n",
       "\n",
       "    .dataframe thead th {\n",
       "        text-align: right;\n",
       "    }\n",
       "</style>\n",
       "<table border=\"1\" class=\"dataframe\">\n",
       "  <thead>\n",
       "    <tr style=\"text-align: right;\">\n",
       "      <th></th>\n",
       "      <th>created_at</th>\n",
       "      <th>location</th>\n",
       "      <th>text</th>\n",
       "    </tr>\n",
       "  </thead>\n",
       "  <tbody>\n",
       "    <tr>\n",
       "      <td>1</td>\n",
       "      <td>2018-07-24 23:24:00</td>\n",
       "      <td>NaN</td>\n",
       "      <td>RT @Cozy_Sev: LMFAOOOO https://t.co/7KUlZ0Qzls</td>\n",
       "    </tr>\n",
       "    <tr>\n",
       "      <td>6</td>\n",
       "      <td>2018-07-24 23:24:00</td>\n",
       "      <td>NaN</td>\n",
       "      <td>RT @itsToddLyon: @marklevinshow She doesn’t wa...</td>\n",
       "    </tr>\n",
       "    <tr>\n",
       "      <td>9</td>\n",
       "      <td>2018-07-24 23:24:00</td>\n",
       "      <td>NaN</td>\n",
       "      <td>RT @KristenDugan18: Nothing is better than wat...</td>\n",
       "    </tr>\n",
       "    <tr>\n",
       "      <td>12</td>\n",
       "      <td>2018-07-24 23:24:00</td>\n",
       "      <td>NaN</td>\n",
       "      <td>RT @krassenstein: Ivanka Trump just lost her b...</td>\n",
       "    </tr>\n",
       "    <tr>\n",
       "      <td>19</td>\n",
       "      <td>2018-07-24 23:24:00</td>\n",
       "      <td>NaN</td>\n",
       "      <td>RT @listenlina: why not?❣️ #PostYourFavMirrorS...</td>\n",
       "    </tr>\n",
       "  </tbody>\n",
       "</table>\n",
       "</div>"
      ],
      "text/plain": [
       "             created_at location  \\\n",
       "1   2018-07-24 23:24:00      NaN   \n",
       "6   2018-07-24 23:24:00      NaN   \n",
       "9   2018-07-24 23:24:00      NaN   \n",
       "12  2018-07-24 23:24:00      NaN   \n",
       "19  2018-07-24 23:24:00      NaN   \n",
       "\n",
       "                                                 text  \n",
       "1      RT @Cozy_Sev: LMFAOOOO https://t.co/7KUlZ0Qzls  \n",
       "6   RT @itsToddLyon: @marklevinshow She doesn’t wa...  \n",
       "9   RT @KristenDugan18: Nothing is better than wat...  \n",
       "12  RT @krassenstein: Ivanka Trump just lost her b...  \n",
       "19  RT @listenlina: why not?❣️ #PostYourFavMirrorS...  "
      ]
     },
     "execution_count": 6,
     "metadata": {},
     "output_type": "execute_result"
    }
   ],
   "source": [
    "df_24.head()"
   ]
  },
  {
   "cell_type": "code",
   "execution_count": 7,
   "metadata": {},
   "outputs": [],
   "source": [
    "# Convert the data type of column 'created_at' to datetime\n",
    "df_23['created_at'] = pd.to_datetime(df_23['created_at'])\n",
    "df_24['created_at'] = pd.to_datetime(df_24['created_at'])"
   ]
  },
  {
   "cell_type": "code",
   "execution_count": 9,
   "metadata": {},
   "outputs": [
    {
     "name": "stdout",
     "output_type": "stream",
     "text": [
      "(1076457, 3) (1060954, 3)\n"
     ]
    }
   ],
   "source": [
    "# The shape of the two dataframes\n",
    "print(df_23.shape, df_24.shape)"
   ]
  },
  {
   "cell_type": "code",
   "execution_count": 10,
   "metadata": {},
   "outputs": [],
   "source": [
    "# Create a function to clean the text from the tweets, \n",
    "# in order to get rid of the @username, https:// and special symbols\n",
    "\n",
    "def clean_text(text):\n",
    "    tweet = re.sub(\"(@_?[A-Za-z0-9]+)|([^0-9A-Za-z \\t])|(\\w+:\\/\\/\\S+)\",\" \",text).split()\n",
    "    return ' '.join(tweet)"
   ]
  },
  {
   "cell_type": "code",
   "execution_count": 11,
   "metadata": {},
   "outputs": [],
   "source": [
    "# Clean the text and store into a new column 'text_clean'\n",
    "df_23['text_clean'] = df_23['text'].map(lambda x: clean_text(str(x)))\n",
    "df_24['text_clean'] = df_24['text'].map(lambda x: clean_text(str(x)))"
   ]
  },
  {
   "cell_type": "code",
   "execution_count": 12,
   "metadata": {},
   "outputs": [
    {
     "data": {
      "text/html": [
       "<div>\n",
       "<style scoped>\n",
       "    .dataframe tbody tr th:only-of-type {\n",
       "        vertical-align: middle;\n",
       "    }\n",
       "\n",
       "    .dataframe tbody tr th {\n",
       "        vertical-align: top;\n",
       "    }\n",
       "\n",
       "    .dataframe thead th {\n",
       "        text-align: right;\n",
       "    }\n",
       "</style>\n",
       "<table border=\"1\" class=\"dataframe\">\n",
       "  <thead>\n",
       "    <tr style=\"text-align: right;\">\n",
       "      <th></th>\n",
       "      <th>created_at</th>\n",
       "      <th>location</th>\n",
       "      <th>text</th>\n",
       "      <th>text_clean</th>\n",
       "    </tr>\n",
       "  </thead>\n",
       "  <tbody>\n",
       "    <tr>\n",
       "      <td>582</td>\n",
       "      <td>2018-07-23 14:25:09</td>\n",
       "      <td>NaN</td>\n",
       "      <td>Your mind’s on your money and your money’s on ...</td>\n",
       "      <td>Your mind s on your money and your money s on ...</td>\n",
       "    </tr>\n",
       "    <tr>\n",
       "      <td>669</td>\n",
       "      <td>2018-07-23 14:25:10</td>\n",
       "      <td>NaN</td>\n",
       "      <td>Sometimes you care more about caring than bein...</td>\n",
       "      <td>Sometimes you care more about caring than bein...</td>\n",
       "    </tr>\n",
       "    <tr>\n",
       "      <td>2517</td>\n",
       "      <td>2018-07-23 14:25:39</td>\n",
       "      <td>NaN</td>\n",
       "      <td>one person unfollowed me // automatically chec...</td>\n",
       "      <td>one person unfollowed me automatically checked by</td>\n",
       "    </tr>\n",
       "    <tr>\n",
       "      <td>2803</td>\n",
       "      <td>2018-07-23 14:25:43</td>\n",
       "      <td>NaN</td>\n",
       "      <td>@kimmyifuplease @TheUSASingers @FDRrocks @isla...</td>\n",
       "      <td></td>\n",
       "    </tr>\n",
       "    <tr>\n",
       "      <td>2853</td>\n",
       "      <td>2018-07-23 14:25:44</td>\n",
       "      <td>NaN</td>\n",
       "      <td>Sometimes you care more about caring than bein...</td>\n",
       "      <td>Sometimes you care more about caring than bein...</td>\n",
       "    </tr>\n",
       "    <tr>\n",
       "      <td>...</td>\n",
       "      <td>...</td>\n",
       "      <td>...</td>\n",
       "      <td>...</td>\n",
       "      <td>...</td>\n",
       "    </tr>\n",
       "    <tr>\n",
       "      <td>2399</td>\n",
       "      <td>2018-07-23 06:41:59</td>\n",
       "      <td>NaN</td>\n",
       "      <td>RT @knownforms: Wow. This thread brings the re...</td>\n",
       "      <td>RT Wow This thread brings the receipts on and ...</td>\n",
       "    </tr>\n",
       "    <tr>\n",
       "      <td>2401</td>\n",
       "      <td>2018-07-23 06:41:59</td>\n",
       "      <td>NaN</td>\n",
       "      <td>RT @kaushkrahul: Why Maratha Kranti Morcha is ...</td>\n",
       "      <td>RT Why Maratha Kranti Morcha is demanding rese...</td>\n",
       "    </tr>\n",
       "    <tr>\n",
       "      <td>2418</td>\n",
       "      <td>2018-07-23 06:41:59</td>\n",
       "      <td>NaN</td>\n",
       "      <td>RT @DrBeniRusani: Study tip: Memorizing withou...</td>\n",
       "      <td>RT Study tip Memorizing without understanding ...</td>\n",
       "    </tr>\n",
       "    <tr>\n",
       "      <td>2421</td>\n",
       "      <td>2018-07-23 06:41:59</td>\n",
       "      <td>NaN</td>\n",
       "      <td>RT @TheScaryNature: Tortoise killed and ate a ...</td>\n",
       "      <td>RT Tortoise killed and ate a rattle snake</td>\n",
       "    </tr>\n",
       "    <tr>\n",
       "      <td>2422</td>\n",
       "      <td>2018-07-23 06:41:59</td>\n",
       "      <td>NaN</td>\n",
       "      <td>RT @TDollahz: 5 months left in this year...\\nM...</td>\n",
       "      <td>RT 5 months left in this year Motto for the re...</td>\n",
       "    </tr>\n",
       "  </tbody>\n",
       "</table>\n",
       "<p>388157 rows × 4 columns</p>\n",
       "</div>"
      ],
      "text/plain": [
       "              created_at location  \\\n",
       "582  2018-07-23 14:25:09      NaN   \n",
       "669  2018-07-23 14:25:10      NaN   \n",
       "2517 2018-07-23 14:25:39      NaN   \n",
       "2803 2018-07-23 14:25:43      NaN   \n",
       "2853 2018-07-23 14:25:44      NaN   \n",
       "...                  ...      ...   \n",
       "2399 2018-07-23 06:41:59      NaN   \n",
       "2401 2018-07-23 06:41:59      NaN   \n",
       "2418 2018-07-23 06:41:59      NaN   \n",
       "2421 2018-07-23 06:41:59      NaN   \n",
       "2422 2018-07-23 06:41:59      NaN   \n",
       "\n",
       "                                                   text  \\\n",
       "582   Your mind’s on your money and your money’s on ...   \n",
       "669   Sometimes you care more about caring than bein...   \n",
       "2517  one person unfollowed me // automatically chec...   \n",
       "2803  @kimmyifuplease @TheUSASingers @FDRrocks @isla...   \n",
       "2853  Sometimes you care more about caring than bein...   \n",
       "...                                                 ...   \n",
       "2399  RT @knownforms: Wow. This thread brings the re...   \n",
       "2401  RT @kaushkrahul: Why Maratha Kranti Morcha is ...   \n",
       "2418  RT @DrBeniRusani: Study tip: Memorizing withou...   \n",
       "2421  RT @TheScaryNature: Tortoise killed and ate a ...   \n",
       "2422  RT @TDollahz: 5 months left in this year...\\nM...   \n",
       "\n",
       "                                             text_clean  \n",
       "582   Your mind s on your money and your money s on ...  \n",
       "669   Sometimes you care more about caring than bein...  \n",
       "2517  one person unfollowed me automatically checked by  \n",
       "2803                                                     \n",
       "2853  Sometimes you care more about caring than bein...  \n",
       "...                                                 ...  \n",
       "2399  RT Wow This thread brings the receipts on and ...  \n",
       "2401  RT Why Maratha Kranti Morcha is demanding rese...  \n",
       "2418  RT Study tip Memorizing without understanding ...  \n",
       "2421          RT Tortoise killed and ate a rattle snake  \n",
       "2422  RT 5 months left in this year Motto for the re...  \n",
       "\n",
       "[388157 rows x 4 columns]"
      ]
     },
     "execution_count": 12,
     "metadata": {},
     "output_type": "execute_result"
    }
   ],
   "source": [
    "# Check the duplicated rows in column 'text_clean'\n",
    "df_23[df_23['text_clean'].duplicated()]"
   ]
  },
  {
   "cell_type": "code",
   "execution_count": 13,
   "metadata": {},
   "outputs": [
    {
     "data": {
      "text/html": [
       "<div>\n",
       "<style scoped>\n",
       "    .dataframe tbody tr th:only-of-type {\n",
       "        vertical-align: middle;\n",
       "    }\n",
       "\n",
       "    .dataframe tbody tr th {\n",
       "        vertical-align: top;\n",
       "    }\n",
       "\n",
       "    .dataframe thead th {\n",
       "        text-align: right;\n",
       "    }\n",
       "</style>\n",
       "<table border=\"1\" class=\"dataframe\">\n",
       "  <thead>\n",
       "    <tr style=\"text-align: right;\">\n",
       "      <th></th>\n",
       "      <th>created_at</th>\n",
       "      <th>location</th>\n",
       "      <th>text</th>\n",
       "      <th>text_clean</th>\n",
       "    </tr>\n",
       "  </thead>\n",
       "  <tbody>\n",
       "    <tr>\n",
       "      <td>2142</td>\n",
       "      <td>2018-07-24 23:24:21</td>\n",
       "      <td>NaN</td>\n",
       "      <td>@CsertanAtilla @niuracastrillon @safsafayoub @...</td>\n",
       "      <td></td>\n",
       "    </tr>\n",
       "    <tr>\n",
       "      <td>2949</td>\n",
       "      <td>2018-07-24 23:24:32</td>\n",
       "      <td>NaN</td>\n",
       "      <td>@WASAN71__ Mood:</td>\n",
       "      <td>Mood</td>\n",
       "    </tr>\n",
       "    <tr>\n",
       "      <td>4829</td>\n",
       "      <td>2018-07-24 23:24:56</td>\n",
       "      <td>NaN</td>\n",
       "      <td>Who is visiting you? https://t.co/pnbgyoe6bj</td>\n",
       "      <td>Who is visiting you</td>\n",
       "    </tr>\n",
       "    <tr>\n",
       "      <td>147</td>\n",
       "      <td>2018-07-24 23:34:02</td>\n",
       "      <td>NaN</td>\n",
       "      <td>RT @adamlambert: Hang in there @ddlovato - sen...</td>\n",
       "      <td>RT Hang in there sending good energy and love</td>\n",
       "    </tr>\n",
       "    <tr>\n",
       "      <td>327</td>\n",
       "      <td>2018-07-24 23:34:05</td>\n",
       "      <td>NaN</td>\n",
       "      <td>RT @maxmoefoe: RT to save a soul https://t.co/...</td>\n",
       "      <td>RT RT to save a soul</td>\n",
       "    </tr>\n",
       "    <tr>\n",
       "      <td>...</td>\n",
       "      <td>...</td>\n",
       "      <td>...</td>\n",
       "      <td>...</td>\n",
       "      <td>...</td>\n",
       "    </tr>\n",
       "    <tr>\n",
       "      <td>3023</td>\n",
       "      <td>2018-07-24 21:13:59</td>\n",
       "      <td>NaN</td>\n",
       "      <td>one person unfollowed me // automatically chec...</td>\n",
       "      <td>one person unfollowed me automatically checked by</td>\n",
       "    </tr>\n",
       "    <tr>\n",
       "      <td>3033</td>\n",
       "      <td>2018-07-24 21:13:59</td>\n",
       "      <td>NaN</td>\n",
       "      <td>RT @AbeikuLytle: Fabregas' wife is 12 years ol...</td>\n",
       "      <td>RT Fabregas wife is 12 years older They first ...</td>\n",
       "    </tr>\n",
       "    <tr>\n",
       "      <td>3039</td>\n",
       "      <td>2018-07-24 21:13:59</td>\n",
       "      <td>NaN</td>\n",
       "      <td>RT @FoxNews: .@SecPompeo on reports of North K...</td>\n",
       "      <td>RT on reports of North Korea dismantling a mis...</td>\n",
       "    </tr>\n",
       "    <tr>\n",
       "      <td>3050</td>\n",
       "      <td>2018-07-24 21:13:59</td>\n",
       "      <td>NaN</td>\n",
       "      <td>RT @SeanJones_: #DemiLovato She has bipolar di...</td>\n",
       "      <td>RT DemiLovato She has bipolar disorder abandon...</td>\n",
       "    </tr>\n",
       "    <tr>\n",
       "      <td>3053</td>\n",
       "      <td>2018-07-24 21:13:59</td>\n",
       "      <td>NaN</td>\n",
       "      <td>RT @sizov_andre: A recent pics from Russian Bl...</td>\n",
       "      <td>RT andre A recent pics from Russian Black Eart...</td>\n",
       "    </tr>\n",
       "  </tbody>\n",
       "</table>\n",
       "<p>370769 rows × 4 columns</p>\n",
       "</div>"
      ],
      "text/plain": [
       "              created_at location  \\\n",
       "2142 2018-07-24 23:24:21      NaN   \n",
       "2949 2018-07-24 23:24:32      NaN   \n",
       "4829 2018-07-24 23:24:56      NaN   \n",
       "147  2018-07-24 23:34:02      NaN   \n",
       "327  2018-07-24 23:34:05      NaN   \n",
       "...                  ...      ...   \n",
       "3023 2018-07-24 21:13:59      NaN   \n",
       "3033 2018-07-24 21:13:59      NaN   \n",
       "3039 2018-07-24 21:13:59      NaN   \n",
       "3050 2018-07-24 21:13:59      NaN   \n",
       "3053 2018-07-24 21:13:59      NaN   \n",
       "\n",
       "                                                   text  \\\n",
       "2142  @CsertanAtilla @niuracastrillon @safsafayoub @...   \n",
       "2949                                   @WASAN71__ Mood:   \n",
       "4829       Who is visiting you? https://t.co/pnbgyoe6bj   \n",
       "147   RT @adamlambert: Hang in there @ddlovato - sen...   \n",
       "327   RT @maxmoefoe: RT to save a soul https://t.co/...   \n",
       "...                                                 ...   \n",
       "3023  one person unfollowed me // automatically chec...   \n",
       "3033  RT @AbeikuLytle: Fabregas' wife is 12 years ol...   \n",
       "3039  RT @FoxNews: .@SecPompeo on reports of North K...   \n",
       "3050  RT @SeanJones_: #DemiLovato She has bipolar di...   \n",
       "3053  RT @sizov_andre: A recent pics from Russian Bl...   \n",
       "\n",
       "                                             text_clean  \n",
       "2142                                                     \n",
       "2949                                               Mood  \n",
       "4829                                Who is visiting you  \n",
       "147       RT Hang in there sending good energy and love  \n",
       "327                                RT RT to save a soul  \n",
       "...                                                 ...  \n",
       "3023  one person unfollowed me automatically checked by  \n",
       "3033  RT Fabregas wife is 12 years older They first ...  \n",
       "3039  RT on reports of North Korea dismantling a mis...  \n",
       "3050  RT DemiLovato She has bipolar disorder abandon...  \n",
       "3053  RT andre A recent pics from Russian Black Eart...  \n",
       "\n",
       "[370769 rows x 4 columns]"
      ]
     },
     "execution_count": 13,
     "metadata": {},
     "output_type": "execute_result"
    }
   ],
   "source": [
    "df_24[df_24['text_clean'].duplicated()]"
   ]
  },
  {
   "cell_type": "code",
   "execution_count": 14,
   "metadata": {},
   "outputs": [],
   "source": [
    "# Make a copy of original dataframe and drop the duplicated rows in new dataframe\n",
    "df_23_clean = df_23.copy()\n",
    "df_23_clean.drop_duplicates(subset =\"text_clean\", inplace = True) "
   ]
  },
  {
   "cell_type": "code",
   "execution_count": 15,
   "metadata": {},
   "outputs": [],
   "source": [
    "df_24_clean = df_24.copy()\n",
    "df_24_clean.drop_duplicates(subset =\"text_clean\", inplace = True) "
   ]
  },
  {
   "cell_type": "code",
   "execution_count": 26,
   "metadata": {},
   "outputs": [
    {
     "name": "stdout",
     "output_type": "stream",
     "text": [
      "(688300, 5) (690185, 5)\n"
     ]
    }
   ],
   "source": [
    "print(df_23_clean.shape, df_24_clean.shape)"
   ]
  },
  {
   "cell_type": "code",
   "execution_count": 17,
   "metadata": {},
   "outputs": [],
   "source": [
    "# Label the tweets that related to wildfire\n",
    "key_word_list = ['wildfire','wildfires']\n",
    "pattern1 = re.compile('|'.join(key_word_list),re.IGNORECASE)\n",
    "df_23_clean['label'] = df_23_clean['text_clean'].map(lambda x: pattern1.search(x) is not None)\n",
    "df_23_clean['label'] = df_23_clean['label'].map(lambda x : int(x))\n",
    "df_24_clean['label'] = df_24_clean['text_clean'].map(lambda x: pattern1.search(x) is not None)\n",
    "df_24_clean['label'] = df_24_clean['label'].map(lambda x : int(x))"
   ]
  },
  {
   "cell_type": "code",
   "execution_count": 25,
   "metadata": {},
   "outputs": [
    {
     "name": "stdout",
     "output_type": "stream",
     "text": [
      "135 481\n"
     ]
    }
   ],
   "source": [
    "print(len(df_23_clean[df_23_clean['label']==1]), len(df_24_clean[df_24_clean['label']==1]))"
   ]
  },
  {
   "cell_type": "code",
   "execution_count": 28,
   "metadata": {},
   "outputs": [],
   "source": [
    "# Concatinate two days wildfire tweets together with positive label\n",
    "df_wildfire = pd.concat([df_23_clean[df_23_clean['label']==1], df_24_clean[df_24_clean['label']==1]])"
   ]
  },
  {
   "cell_type": "code",
   "execution_count": 30,
   "metadata": {},
   "outputs": [
    {
     "data": {
      "text/html": [
       "<div>\n",
       "<style scoped>\n",
       "    .dataframe tbody tr th:only-of-type {\n",
       "        vertical-align: middle;\n",
       "    }\n",
       "\n",
       "    .dataframe tbody tr th {\n",
       "        vertical-align: top;\n",
       "    }\n",
       "\n",
       "    .dataframe thead th {\n",
       "        text-align: right;\n",
       "    }\n",
       "</style>\n",
       "<table border=\"1\" class=\"dataframe\">\n",
       "  <thead>\n",
       "    <tr style=\"text-align: right;\">\n",
       "      <th></th>\n",
       "      <th>created_at</th>\n",
       "      <th>location</th>\n",
       "      <th>text</th>\n",
       "      <th>text_clean</th>\n",
       "      <th>label</th>\n",
       "    </tr>\n",
       "  </thead>\n",
       "  <tbody>\n",
       "    <tr>\n",
       "      <td>123</td>\n",
       "      <td>2018-07-23 14:42:01</td>\n",
       "      <td>NaN</td>\n",
       "      <td>There are ways for Colorado residents to stret...</td>\n",
       "      <td>There are ways for Colorado residents to stret...</td>\n",
       "      <td>1</td>\n",
       "    </tr>\n",
       "    <tr>\n",
       "      <td>1110</td>\n",
       "      <td>2018-07-23 14:20:16</td>\n",
       "      <td>NaN</td>\n",
       "      <td>RT @ekathimerini: Residents flee wildfire ragi...</td>\n",
       "      <td>RT Residents flee wildfire raging west of Athens</td>\n",
       "      <td>1</td>\n",
       "    </tr>\n",
       "    <tr>\n",
       "      <td>1139</td>\n",
       "      <td>2018-07-23 14:08:16</td>\n",
       "      <td>NaN</td>\n",
       "      <td>#Canada: B.C.’s Okanagan braces for more wildf...</td>\n",
       "      <td>Canada B C s Okanagan braces for more wildfires</td>\n",
       "      <td>1</td>\n",
       "    </tr>\n",
       "    <tr>\n",
       "      <td>2918</td>\n",
       "      <td>2018-07-23 14:11:44</td>\n",
       "      <td>NaN</td>\n",
       "      <td>Evacuation orders as Ontario's wildfires keep ...</td>\n",
       "      <td>Evacuation orders as Ontario s wildfires keep ...</td>\n",
       "      <td>1</td>\n",
       "    </tr>\n",
       "    <tr>\n",
       "      <td>399</td>\n",
       "      <td>2018-07-23 08:21:09</td>\n",
       "      <td>NaN</td>\n",
       "      <td>RT @GeorgeMonbiot: How rewildling can prevent ...</td>\n",
       "      <td>RT How rewildling can prevent wildfires</td>\n",
       "      <td>1</td>\n",
       "    </tr>\n",
       "  </tbody>\n",
       "</table>\n",
       "</div>"
      ],
      "text/plain": [
       "              created_at location  \\\n",
       "123  2018-07-23 14:42:01      NaN   \n",
       "1110 2018-07-23 14:20:16      NaN   \n",
       "1139 2018-07-23 14:08:16      NaN   \n",
       "2918 2018-07-23 14:11:44      NaN   \n",
       "399  2018-07-23 08:21:09      NaN   \n",
       "\n",
       "                                                   text  \\\n",
       "123   There are ways for Colorado residents to stret...   \n",
       "1110  RT @ekathimerini: Residents flee wildfire ragi...   \n",
       "1139  #Canada: B.C.’s Okanagan braces for more wildf...   \n",
       "2918  Evacuation orders as Ontario's wildfires keep ...   \n",
       "399   RT @GeorgeMonbiot: How rewildling can prevent ...   \n",
       "\n",
       "                                             text_clean  label  \n",
       "123   There are ways for Colorado residents to stret...      1  \n",
       "1110   RT Residents flee wildfire raging west of Athens      1  \n",
       "1139    Canada B C s Okanagan braces for more wildfires      1  \n",
       "2918  Evacuation orders as Ontario s wildfires keep ...      1  \n",
       "399             RT How rewildling can prevent wildfires      1  "
      ]
     },
     "execution_count": 30,
     "metadata": {},
     "output_type": "execute_result"
    }
   ],
   "source": [
    "df_wildfire.head()"
   ]
  },
  {
   "cell_type": "code",
   "execution_count": 37,
   "metadata": {},
   "outputs": [],
   "source": [
    "# Label the tweets that has no relation of wildfire\n",
    "df_nofire = df_24_clean[df_24_clean['label']==0].sample(n=6000)"
   ]
  },
  {
   "cell_type": "code",
   "execution_count": 38,
   "metadata": {},
   "outputs": [
    {
     "data": {
      "text/plain": [
       "(6000, 5)"
      ]
     },
     "execution_count": 38,
     "metadata": {},
     "output_type": "execute_result"
    }
   ],
   "source": [
    "df_nofire.shape"
   ]
  },
  {
   "cell_type": "code",
   "execution_count": 39,
   "metadata": {},
   "outputs": [],
   "source": [
    "# Concatinate the labeled fire dataframe and nofire dataframe together to form a training set\n",
    "df_final = pd.concat([df_wildfire, df_nofire])"
   ]
  },
  {
   "cell_type": "code",
   "execution_count": 41,
   "metadata": {},
   "outputs": [],
   "source": [
    "df_final.drop(columns = ['location', 'text'], inplace=True)"
   ]
  },
  {
   "cell_type": "code",
   "execution_count": 30,
   "metadata": {},
   "outputs": [],
   "source": [
    "df_final.to_csv('Training_set_withtime.csv')"
   ]
  }
 ],
 "metadata": {
  "kernelspec": {
   "display_name": "Python 3",
   "language": "python",
   "name": "python3"
  },
  "language_info": {
   "codemirror_mode": {
    "name": "ipython",
    "version": 3
   },
   "file_extension": ".py",
   "mimetype": "text/x-python",
   "name": "python",
   "nbconvert_exporter": "python",
   "pygments_lexer": "ipython3",
   "version": "3.7.4"
  }
 },
 "nbformat": 4,
 "nbformat_minor": 2
}
