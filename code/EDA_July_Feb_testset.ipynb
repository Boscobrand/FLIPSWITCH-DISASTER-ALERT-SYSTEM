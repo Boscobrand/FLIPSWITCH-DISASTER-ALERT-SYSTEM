{
 "cells": [
  {
   "cell_type": "markdown",
   "metadata": {},
   "source": [
    "## This is the process to generate one of the test dataset. All the others were made with the similar code"
   ]
  },
  {
   "cell_type": "code",
   "execution_count": 1,
   "metadata": {},
   "outputs": [],
   "source": [
    "import pandas as pd\n",
    "import re"
   ]
  },
  {
   "cell_type": "code",
   "execution_count": 2,
   "metadata": {},
   "outputs": [],
   "source": [
    "# Load the data from dataset\n",
    "df = pd.read_csv('../data/eng_tweets/tweets_processed_2018_07_30.csv',engine='python',header =None ,names = ['created_at','location','text'])"
   ]
  },
  {
   "cell_type": "code",
   "execution_count": 3,
   "metadata": {},
   "outputs": [
    {
     "data": {
      "text/html": [
       "<div>\n",
       "<style scoped>\n",
       "    .dataframe tbody tr th:only-of-type {\n",
       "        vertical-align: middle;\n",
       "    }\n",
       "\n",
       "    .dataframe tbody tr th {\n",
       "        vertical-align: top;\n",
       "    }\n",
       "\n",
       "    .dataframe thead th {\n",
       "        text-align: right;\n",
       "    }\n",
       "</style>\n",
       "<table border=\"1\" class=\"dataframe\">\n",
       "  <thead>\n",
       "    <tr style=\"text-align: right;\">\n",
       "      <th></th>\n",
       "      <th>created_at</th>\n",
       "      <th>location</th>\n",
       "      <th>text</th>\n",
       "    </tr>\n",
       "  </thead>\n",
       "  <tbody>\n",
       "    <tr>\n",
       "      <td>4</td>\n",
       "      <td>2018-07-31 03:47:00</td>\n",
       "      <td>NaN</td>\n",
       "      <td>RT @nextdoornurs3: A single person who RT’s th...</td>\n",
       "    </tr>\n",
       "    <tr>\n",
       "      <td>7</td>\n",
       "      <td>2018-07-31 03:47:00</td>\n",
       "      <td>NaN</td>\n",
       "      <td>RT @InfamousMari: So Incase you missed it Ille...</td>\n",
       "    </tr>\n",
       "    <tr>\n",
       "      <td>8</td>\n",
       "      <td>2018-07-31 03:47:00</td>\n",
       "      <td>NaN</td>\n",
       "      <td>RT @nimfasmacabitas: @menggalurks I choose to ...</td>\n",
       "    </tr>\n",
       "    <tr>\n",
       "      <td>9</td>\n",
       "      <td>2018-07-31 03:47:00</td>\n",
       "      <td>NaN</td>\n",
       "      <td>RT @Krazygioo: i actually laughed LMAOOO https...</td>\n",
       "    </tr>\n",
       "    <tr>\n",
       "      <td>10</td>\n",
       "      <td>2018-07-31 03:47:00</td>\n",
       "      <td>NaN</td>\n",
       "      <td>RT @_SJPeace_: A black woman by the name of Da...</td>\n",
       "    </tr>\n",
       "  </tbody>\n",
       "</table>\n",
       "</div>"
      ],
      "text/plain": [
       "             created_at location  \\\n",
       "4   2018-07-31 03:47:00      NaN   \n",
       "7   2018-07-31 03:47:00      NaN   \n",
       "8   2018-07-31 03:47:00      NaN   \n",
       "9   2018-07-31 03:47:00      NaN   \n",
       "10  2018-07-31 03:47:00      NaN   \n",
       "\n",
       "                                                 text  \n",
       "4   RT @nextdoornurs3: A single person who RT’s th...  \n",
       "7   RT @InfamousMari: So Incase you missed it Ille...  \n",
       "8   RT @nimfasmacabitas: @menggalurks I choose to ...  \n",
       "9   RT @Krazygioo: i actually laughed LMAOOO https...  \n",
       "10  RT @_SJPeace_: A black woman by the name of Da...  "
      ]
     },
     "execution_count": 3,
     "metadata": {},
     "output_type": "execute_result"
    }
   ],
   "source": [
    "df.head()"
   ]
  },
  {
   "cell_type": "code",
   "execution_count": 4,
   "metadata": {},
   "outputs": [],
   "source": [
    "# EDA with the same process of training set: convert data type, create clean text, drop the duplicated rows\n",
    "df['created_at'] = pd.to_datetime(df['created_at'])"
   ]
  },
  {
   "cell_type": "code",
   "execution_count": 5,
   "metadata": {},
   "outputs": [
    {
     "data": {
      "text/plain": [
       "created_at    datetime64[ns]\n",
       "location              object\n",
       "text                  object\n",
       "dtype: object"
      ]
     },
     "execution_count": 5,
     "metadata": {},
     "output_type": "execute_result"
    }
   ],
   "source": [
    "df.dtypes"
   ]
  },
  {
   "cell_type": "code",
   "execution_count": 6,
   "metadata": {},
   "outputs": [
    {
     "data": {
      "text/plain": [
       "(991988, 3)"
      ]
     },
     "execution_count": 6,
     "metadata": {},
     "output_type": "execute_result"
    }
   ],
   "source": [
    "df.shape"
   ]
  },
  {
   "cell_type": "code",
   "execution_count": 7,
   "metadata": {},
   "outputs": [],
   "source": [
    "def clean_text(text):\n",
    "    tweet = re.sub(\"(@_?[A-Za-z0-9]+)|([^0-9A-Za-z \\t])|(\\w+:\\/\\/\\S+)\",\" \",text).split()\n",
    "    return ' '.join(tweet)"
   ]
  },
  {
   "cell_type": "code",
   "execution_count": 8,
   "metadata": {},
   "outputs": [],
   "source": [
    "df['text_clean'] = df['text'].map(lambda x: clean_text(str(x)))"
   ]
  },
  {
   "cell_type": "code",
   "execution_count": 9,
   "metadata": {},
   "outputs": [
    {
     "data": {
      "text/html": [
       "<div>\n",
       "<style scoped>\n",
       "    .dataframe tbody tr th:only-of-type {\n",
       "        vertical-align: middle;\n",
       "    }\n",
       "\n",
       "    .dataframe tbody tr th {\n",
       "        vertical-align: top;\n",
       "    }\n",
       "\n",
       "    .dataframe thead th {\n",
       "        text-align: right;\n",
       "    }\n",
       "</style>\n",
       "<table border=\"1\" class=\"dataframe\">\n",
       "  <thead>\n",
       "    <tr style=\"text-align: right;\">\n",
       "      <th></th>\n",
       "      <th>created_at</th>\n",
       "      <th>location</th>\n",
       "      <th>text</th>\n",
       "      <th>text_clean</th>\n",
       "    </tr>\n",
       "  </thead>\n",
       "  <tbody>\n",
       "    <tr>\n",
       "      <td>4</td>\n",
       "      <td>2018-07-31 03:47:00</td>\n",
       "      <td>NaN</td>\n",
       "      <td>RT @nextdoornurs3: A single person who RT’s th...</td>\n",
       "      <td>RT A single person who RT s this I ll DM my ph...</td>\n",
       "    </tr>\n",
       "    <tr>\n",
       "      <td>7</td>\n",
       "      <td>2018-07-31 03:47:00</td>\n",
       "      <td>NaN</td>\n",
       "      <td>RT @InfamousMari: So Incase you missed it Ille...</td>\n",
       "      <td>RT So Incase you missed it Illenium dropped so...</td>\n",
       "    </tr>\n",
       "    <tr>\n",
       "      <td>8</td>\n",
       "      <td>2018-07-31 03:47:00</td>\n",
       "      <td>NaN</td>\n",
       "      <td>RT @nimfasmacabitas: @menggalurks I choose to ...</td>\n",
       "      <td>RT I choose to be HAPPY ALDUBDeeper</td>\n",
       "    </tr>\n",
       "    <tr>\n",
       "      <td>9</td>\n",
       "      <td>2018-07-31 03:47:00</td>\n",
       "      <td>NaN</td>\n",
       "      <td>RT @Krazygioo: i actually laughed LMAOOO https...</td>\n",
       "      <td>RT i actually laughed LMAOOO</td>\n",
       "    </tr>\n",
       "    <tr>\n",
       "      <td>10</td>\n",
       "      <td>2018-07-31 03:47:00</td>\n",
       "      <td>NaN</td>\n",
       "      <td>RT @_SJPeace_: A black woman by the name of Da...</td>\n",
       "      <td>RT A black woman by the name of Darsell Obrego...</td>\n",
       "    </tr>\n",
       "  </tbody>\n",
       "</table>\n",
       "</div>"
      ],
      "text/plain": [
       "            created_at location  \\\n",
       "4  2018-07-31 03:47:00      NaN   \n",
       "7  2018-07-31 03:47:00      NaN   \n",
       "8  2018-07-31 03:47:00      NaN   \n",
       "9  2018-07-31 03:47:00      NaN   \n",
       "10 2018-07-31 03:47:00      NaN   \n",
       "\n",
       "                                                 text  \\\n",
       "4   RT @nextdoornurs3: A single person who RT’s th...   \n",
       "7   RT @InfamousMari: So Incase you missed it Ille...   \n",
       "8   RT @nimfasmacabitas: @menggalurks I choose to ...   \n",
       "9   RT @Krazygioo: i actually laughed LMAOOO https...   \n",
       "10  RT @_SJPeace_: A black woman by the name of Da...   \n",
       "\n",
       "                                           text_clean  \n",
       "4   RT A single person who RT s this I ll DM my ph...  \n",
       "7   RT So Incase you missed it Illenium dropped so...  \n",
       "8                 RT I choose to be HAPPY ALDUBDeeper  \n",
       "9                        RT i actually laughed LMAOOO  \n",
       "10  RT A black woman by the name of Darsell Obrego...  "
      ]
     },
     "execution_count": 9,
     "metadata": {},
     "output_type": "execute_result"
    }
   ],
   "source": [
    "df.head()"
   ]
  },
  {
   "cell_type": "code",
   "execution_count": 10,
   "metadata": {},
   "outputs": [
    {
     "data": {
      "text/html": [
       "<div>\n",
       "<style scoped>\n",
       "    .dataframe tbody tr th:only-of-type {\n",
       "        vertical-align: middle;\n",
       "    }\n",
       "\n",
       "    .dataframe tbody tr th {\n",
       "        vertical-align: top;\n",
       "    }\n",
       "\n",
       "    .dataframe thead th {\n",
       "        text-align: right;\n",
       "    }\n",
       "</style>\n",
       "<table border=\"1\" class=\"dataframe\">\n",
       "  <thead>\n",
       "    <tr style=\"text-align: right;\">\n",
       "      <th></th>\n",
       "      <th>created_at</th>\n",
       "      <th>location</th>\n",
       "      <th>text</th>\n",
       "      <th>text_clean</th>\n",
       "    </tr>\n",
       "  </thead>\n",
       "  <tbody>\n",
       "    <tr>\n",
       "      <td>32</td>\n",
       "      <td>2018-07-31 03:48:00</td>\n",
       "      <td>NaN</td>\n",
       "      <td>RT @NeutralJing: These ain’t the same bills an...</td>\n",
       "      <td>RT These ain t the same bills and this ain t t...</td>\n",
       "    </tr>\n",
       "    <tr>\n",
       "      <td>297</td>\n",
       "      <td>2018-07-31 03:48:05</td>\n",
       "      <td>NaN</td>\n",
       "      <td>RT @_Prince3_: Grape soda doesn’t even taste l...</td>\n",
       "      <td>RT Grape soda doesn t even taste like grapes b...</td>\n",
       "    </tr>\n",
       "    <tr>\n",
       "      <td>407</td>\n",
       "      <td>2018-07-31 03:48:07</td>\n",
       "      <td>NaN</td>\n",
       "      <td>RT @Vimalan97: Who in this world calls it Deng...</td>\n",
       "      <td>RT Who in this world calls it Dengoo</td>\n",
       "    </tr>\n",
       "    <tr>\n",
       "      <td>512</td>\n",
       "      <td>2018-07-31 03:48:09</td>\n",
       "      <td>NaN</td>\n",
       "      <td>RT @AmeriKraut: barack and michelle are NEVER ...</td>\n",
       "      <td>RT barack and michelle are NEVER coming to get us</td>\n",
       "    </tr>\n",
       "    <tr>\n",
       "      <td>526</td>\n",
       "      <td>2018-07-31 03:48:09</td>\n",
       "      <td>NaN</td>\n",
       "      <td>RT @JuddLegum: Just a reminder that someone st...</td>\n",
       "      <td>RT Just a reminder that someone stole George W...</td>\n",
       "    </tr>\n",
       "    <tr>\n",
       "      <td>...</td>\n",
       "      <td>...</td>\n",
       "      <td>...</td>\n",
       "      <td>...</td>\n",
       "      <td>...</td>\n",
       "    </tr>\n",
       "    <tr>\n",
       "      <td>3145</td>\n",
       "      <td>2018-07-30 17:30:59</td>\n",
       "      <td>NaN</td>\n",
       "      <td>RT @SUGAPlCS: I felt that https://t.co/8I5tumqsSx</td>\n",
       "      <td>RT I felt that</td>\n",
       "    </tr>\n",
       "    <tr>\n",
       "      <td>3150</td>\n",
       "      <td>2018-07-30 17:30:59</td>\n",
       "      <td>NaN</td>\n",
       "      <td>RT @avgelia: Jhene Aiko \\nMiguel \\nH.E.R \\nDan...</td>\n",
       "      <td>RT Jhene Aiko Miguel H E R Daniel Caesar Frank...</td>\n",
       "    </tr>\n",
       "    <tr>\n",
       "      <td>3161</td>\n",
       "      <td>2018-07-30 17:30:59</td>\n",
       "      <td>NaN</td>\n",
       "      <td>RT @ManUtd: Who you backing in an arm wrestle ...</td>\n",
       "      <td>RT Who you backing in an arm wrestle or We kno...</td>\n",
       "    </tr>\n",
       "    <tr>\n",
       "      <td>3166</td>\n",
       "      <td>2018-07-30 17:30:59</td>\n",
       "      <td>NaN</td>\n",
       "      <td>RT @Englistani: I always mention \"Burgers\" on ...</td>\n",
       "      <td>RT I always mention Burgers on here so let me ...</td>\n",
       "    </tr>\n",
       "    <tr>\n",
       "      <td>3168</td>\n",
       "      <td>2018-07-30 17:30:59</td>\n",
       "      <td>NaN</td>\n",
       "      <td>RT @AppleSupha: It's such a beautiful pic. in ...</td>\n",
       "      <td>RT It s such a beautiful pic in my camera whic...</td>\n",
       "    </tr>\n",
       "  </tbody>\n",
       "</table>\n",
       "<p>337707 rows × 4 columns</p>\n",
       "</div>"
      ],
      "text/plain": [
       "              created_at location  \\\n",
       "32   2018-07-31 03:48:00      NaN   \n",
       "297  2018-07-31 03:48:05      NaN   \n",
       "407  2018-07-31 03:48:07      NaN   \n",
       "512  2018-07-31 03:48:09      NaN   \n",
       "526  2018-07-31 03:48:09      NaN   \n",
       "...                  ...      ...   \n",
       "3145 2018-07-30 17:30:59      NaN   \n",
       "3150 2018-07-30 17:30:59      NaN   \n",
       "3161 2018-07-30 17:30:59      NaN   \n",
       "3166 2018-07-30 17:30:59      NaN   \n",
       "3168 2018-07-30 17:30:59      NaN   \n",
       "\n",
       "                                                   text  \\\n",
       "32    RT @NeutralJing: These ain’t the same bills an...   \n",
       "297   RT @_Prince3_: Grape soda doesn’t even taste l...   \n",
       "407   RT @Vimalan97: Who in this world calls it Deng...   \n",
       "512   RT @AmeriKraut: barack and michelle are NEVER ...   \n",
       "526   RT @JuddLegum: Just a reminder that someone st...   \n",
       "...                                                 ...   \n",
       "3145  RT @SUGAPlCS: I felt that https://t.co/8I5tumqsSx   \n",
       "3150  RT @avgelia: Jhene Aiko \\nMiguel \\nH.E.R \\nDan...   \n",
       "3161  RT @ManUtd: Who you backing in an arm wrestle ...   \n",
       "3166  RT @Englistani: I always mention \"Burgers\" on ...   \n",
       "3168  RT @AppleSupha: It's such a beautiful pic. in ...   \n",
       "\n",
       "                                             text_clean  \n",
       "32    RT These ain t the same bills and this ain t t...  \n",
       "297   RT Grape soda doesn t even taste like grapes b...  \n",
       "407                RT Who in this world calls it Dengoo  \n",
       "512   RT barack and michelle are NEVER coming to get us  \n",
       "526   RT Just a reminder that someone stole George W...  \n",
       "...                                                 ...  \n",
       "3145                                     RT I felt that  \n",
       "3150  RT Jhene Aiko Miguel H E R Daniel Caesar Frank...  \n",
       "3161  RT Who you backing in an arm wrestle or We kno...  \n",
       "3166  RT I always mention Burgers on here so let me ...  \n",
       "3168  RT It s such a beautiful pic in my camera whic...  \n",
       "\n",
       "[337707 rows x 4 columns]"
      ]
     },
     "execution_count": 10,
     "metadata": {},
     "output_type": "execute_result"
    }
   ],
   "source": [
    "df[df['text_clean'].duplicated()]"
   ]
  },
  {
   "cell_type": "code",
   "execution_count": 11,
   "metadata": {},
   "outputs": [],
   "source": [
    "df_clean = df.copy()\n",
    "df_clean.drop_duplicates(subset =\"text_clean\", inplace = True) "
   ]
  },
  {
   "cell_type": "code",
   "execution_count": 12,
   "metadata": {},
   "outputs": [
    {
     "data": {
      "text/plain": [
       "(654281, 4)"
      ]
     },
     "execution_count": 12,
     "metadata": {},
     "output_type": "execute_result"
    }
   ],
   "source": [
    "df_clean.shape"
   ]
  },
  {
   "cell_type": "code",
   "execution_count": 13,
   "metadata": {},
   "outputs": [
    {
     "data": {
      "text/html": [
       "<div>\n",
       "<style scoped>\n",
       "    .dataframe tbody tr th:only-of-type {\n",
       "        vertical-align: middle;\n",
       "    }\n",
       "\n",
       "    .dataframe tbody tr th {\n",
       "        vertical-align: top;\n",
       "    }\n",
       "\n",
       "    .dataframe thead th {\n",
       "        text-align: right;\n",
       "    }\n",
       "</style>\n",
       "<table border=\"1\" class=\"dataframe\">\n",
       "  <thead>\n",
       "    <tr style=\"text-align: right;\">\n",
       "      <th></th>\n",
       "      <th>created_at</th>\n",
       "      <th>location</th>\n",
       "      <th>text</th>\n",
       "      <th>text_clean</th>\n",
       "    </tr>\n",
       "  </thead>\n",
       "  <tbody>\n",
       "    <tr>\n",
       "      <td>4</td>\n",
       "      <td>2018-07-31 03:47:00</td>\n",
       "      <td>NaN</td>\n",
       "      <td>RT @nextdoornurs3: A single person who RT’s th...</td>\n",
       "      <td>RT A single person who RT s this I ll DM my ph...</td>\n",
       "    </tr>\n",
       "    <tr>\n",
       "      <td>7</td>\n",
       "      <td>2018-07-31 03:47:00</td>\n",
       "      <td>NaN</td>\n",
       "      <td>RT @InfamousMari: So Incase you missed it Ille...</td>\n",
       "      <td>RT So Incase you missed it Illenium dropped so...</td>\n",
       "    </tr>\n",
       "    <tr>\n",
       "      <td>8</td>\n",
       "      <td>2018-07-31 03:47:00</td>\n",
       "      <td>NaN</td>\n",
       "      <td>RT @nimfasmacabitas: @menggalurks I choose to ...</td>\n",
       "      <td>RT I choose to be HAPPY ALDUBDeeper</td>\n",
       "    </tr>\n",
       "    <tr>\n",
       "      <td>9</td>\n",
       "      <td>2018-07-31 03:47:00</td>\n",
       "      <td>NaN</td>\n",
       "      <td>RT @Krazygioo: i actually laughed LMAOOO https...</td>\n",
       "      <td>RT i actually laughed LMAOOO</td>\n",
       "    </tr>\n",
       "    <tr>\n",
       "      <td>10</td>\n",
       "      <td>2018-07-31 03:47:00</td>\n",
       "      <td>NaN</td>\n",
       "      <td>RT @_SJPeace_: A black woman by the name of Da...</td>\n",
       "      <td>RT A black woman by the name of Darsell Obrego...</td>\n",
       "    </tr>\n",
       "  </tbody>\n",
       "</table>\n",
       "</div>"
      ],
      "text/plain": [
       "            created_at location  \\\n",
       "4  2018-07-31 03:47:00      NaN   \n",
       "7  2018-07-31 03:47:00      NaN   \n",
       "8  2018-07-31 03:47:00      NaN   \n",
       "9  2018-07-31 03:47:00      NaN   \n",
       "10 2018-07-31 03:47:00      NaN   \n",
       "\n",
       "                                                 text  \\\n",
       "4   RT @nextdoornurs3: A single person who RT’s th...   \n",
       "7   RT @InfamousMari: So Incase you missed it Ille...   \n",
       "8   RT @nimfasmacabitas: @menggalurks I choose to ...   \n",
       "9   RT @Krazygioo: i actually laughed LMAOOO https...   \n",
       "10  RT @_SJPeace_: A black woman by the name of Da...   \n",
       "\n",
       "                                           text_clean  \n",
       "4   RT A single person who RT s this I ll DM my ph...  \n",
       "7   RT So Incase you missed it Illenium dropped so...  \n",
       "8                 RT I choose to be HAPPY ALDUBDeeper  \n",
       "9                        RT i actually laughed LMAOOO  \n",
       "10  RT A black woman by the name of Darsell Obrego...  "
      ]
     },
     "execution_count": 13,
     "metadata": {},
     "output_type": "execute_result"
    }
   ],
   "source": [
    "df_clean.head()"
   ]
  },
  {
   "cell_type": "code",
   "execution_count": 14,
   "metadata": {},
   "outputs": [],
   "source": [
    "df_clean.drop(columns=['location','text'],inplace=True)"
   ]
  },
  {
   "cell_type": "code",
   "execution_count": 15,
   "metadata": {},
   "outputs": [
    {
     "data": {
      "text/html": [
       "<div>\n",
       "<style scoped>\n",
       "    .dataframe tbody tr th:only-of-type {\n",
       "        vertical-align: middle;\n",
       "    }\n",
       "\n",
       "    .dataframe tbody tr th {\n",
       "        vertical-align: top;\n",
       "    }\n",
       "\n",
       "    .dataframe thead th {\n",
       "        text-align: right;\n",
       "    }\n",
       "</style>\n",
       "<table border=\"1\" class=\"dataframe\">\n",
       "  <thead>\n",
       "    <tr style=\"text-align: right;\">\n",
       "      <th></th>\n",
       "      <th>created_at</th>\n",
       "      <th>text_clean</th>\n",
       "    </tr>\n",
       "  </thead>\n",
       "  <tbody>\n",
       "    <tr>\n",
       "      <td>4</td>\n",
       "      <td>2018-07-31 03:47:00</td>\n",
       "      <td>RT A single person who RT s this I ll DM my ph...</td>\n",
       "    </tr>\n",
       "    <tr>\n",
       "      <td>7</td>\n",
       "      <td>2018-07-31 03:47:00</td>\n",
       "      <td>RT So Incase you missed it Illenium dropped so...</td>\n",
       "    </tr>\n",
       "    <tr>\n",
       "      <td>8</td>\n",
       "      <td>2018-07-31 03:47:00</td>\n",
       "      <td>RT I choose to be HAPPY ALDUBDeeper</td>\n",
       "    </tr>\n",
       "    <tr>\n",
       "      <td>9</td>\n",
       "      <td>2018-07-31 03:47:00</td>\n",
       "      <td>RT i actually laughed LMAOOO</td>\n",
       "    </tr>\n",
       "    <tr>\n",
       "      <td>10</td>\n",
       "      <td>2018-07-31 03:47:00</td>\n",
       "      <td>RT A black woman by the name of Darsell Obrego...</td>\n",
       "    </tr>\n",
       "  </tbody>\n",
       "</table>\n",
       "</div>"
      ],
      "text/plain": [
       "            created_at                                         text_clean\n",
       "4  2018-07-31 03:47:00  RT A single person who RT s this I ll DM my ph...\n",
       "7  2018-07-31 03:47:00  RT So Incase you missed it Illenium dropped so...\n",
       "8  2018-07-31 03:47:00                RT I choose to be HAPPY ALDUBDeeper\n",
       "9  2018-07-31 03:47:00                       RT i actually laughed LMAOOO\n",
       "10 2018-07-31 03:47:00  RT A black woman by the name of Darsell Obrego..."
      ]
     },
     "execution_count": 15,
     "metadata": {},
     "output_type": "execute_result"
    }
   ],
   "source": [
    "df_clean.head()"
   ]
  },
  {
   "cell_type": "code",
   "execution_count": 21,
   "metadata": {},
   "outputs": [],
   "source": [
    "# Lable the data set of positive class(fire tweets) and negative class(nofire tweets)\n",
    "key_word_list1 = ['wildfire','wildfires']\n",
    "pattern1 = re.compile('|'.join(key_word_list1),re.IGNORECASE)\n",
    "df_clean['label'] = df_clean['text_clean'].map(lambda x: pattern1.search(x) is not None)\n",
    "df_clean['label'] = df_clean['label'].map(lambda x : int(x))"
   ]
  },
  {
   "cell_type": "code",
   "execution_count": 26,
   "metadata": {},
   "outputs": [
    {
     "data": {
      "text/html": [
       "<div>\n",
       "<style scoped>\n",
       "    .dataframe tbody tr th:only-of-type {\n",
       "        vertical-align: middle;\n",
       "    }\n",
       "\n",
       "    .dataframe tbody tr th {\n",
       "        vertical-align: top;\n",
       "    }\n",
       "\n",
       "    .dataframe thead th {\n",
       "        text-align: right;\n",
       "    }\n",
       "</style>\n",
       "<table border=\"1\" class=\"dataframe\">\n",
       "  <thead>\n",
       "    <tr style=\"text-align: right;\">\n",
       "      <th></th>\n",
       "      <th>created_at</th>\n",
       "      <th>text_clean</th>\n",
       "      <th>label</th>\n",
       "    </tr>\n",
       "  </thead>\n",
       "  <tbody>\n",
       "    <tr>\n",
       "      <td>4</td>\n",
       "      <td>2018-07-31 03:47:00</td>\n",
       "      <td>RT A single person who RT s this I ll DM my ph...</td>\n",
       "      <td>0</td>\n",
       "    </tr>\n",
       "    <tr>\n",
       "      <td>7</td>\n",
       "      <td>2018-07-31 03:47:00</td>\n",
       "      <td>RT So Incase you missed it Illenium dropped so...</td>\n",
       "      <td>0</td>\n",
       "    </tr>\n",
       "    <tr>\n",
       "      <td>8</td>\n",
       "      <td>2018-07-31 03:47:00</td>\n",
       "      <td>RT I choose to be HAPPY ALDUBDeeper</td>\n",
       "      <td>0</td>\n",
       "    </tr>\n",
       "    <tr>\n",
       "      <td>9</td>\n",
       "      <td>2018-07-31 03:47:00</td>\n",
       "      <td>RT i actually laughed LMAOOO</td>\n",
       "      <td>0</td>\n",
       "    </tr>\n",
       "    <tr>\n",
       "      <td>10</td>\n",
       "      <td>2018-07-31 03:47:00</td>\n",
       "      <td>RT A black woman by the name of Darsell Obrego...</td>\n",
       "      <td>0</td>\n",
       "    </tr>\n",
       "  </tbody>\n",
       "</table>\n",
       "</div>"
      ],
      "text/plain": [
       "            created_at                                         text_clean  \\\n",
       "4  2018-07-31 03:47:00  RT A single person who RT s this I ll DM my ph...   \n",
       "7  2018-07-31 03:47:00  RT So Incase you missed it Illenium dropped so...   \n",
       "8  2018-07-31 03:47:00                RT I choose to be HAPPY ALDUBDeeper   \n",
       "9  2018-07-31 03:47:00                       RT i actually laughed LMAOOO   \n",
       "10 2018-07-31 03:47:00  RT A black woman by the name of Darsell Obrego...   \n",
       "\n",
       "    label  \n",
       "4       0  \n",
       "7       0  \n",
       "8       0  \n",
       "9       0  \n",
       "10      0  "
      ]
     },
     "execution_count": 26,
     "metadata": {},
     "output_type": "execute_result"
    }
   ],
   "source": [
    "df_final= df_clean[['created_at','text_clean','label']]\n",
    "df_final.head()"
   ]
  },
  {
   "cell_type": "code",
   "execution_count": 27,
   "metadata": {},
   "outputs": [
    {
     "data": {
      "text/plain": [
       "(654281, 3)"
      ]
     },
     "execution_count": 27,
     "metadata": {},
     "output_type": "execute_result"
    }
   ],
   "source": [
    "df_final.shape"
   ]
  },
  {
   "cell_type": "code",
   "execution_count": 28,
   "metadata": {},
   "outputs": [
    {
     "data": {
      "text/plain": [
       "0    653978\n",
       "1       303\n",
       "Name: label, dtype: int64"
      ]
     },
     "execution_count": 28,
     "metadata": {},
     "output_type": "execute_result"
    }
   ],
   "source": [
    "df_final['label'].value_counts()"
   ]
  },
  {
   "cell_type": "code",
   "execution_count": 29,
   "metadata": {},
   "outputs": [],
   "source": [
    "df_final.to_csv('test_data_July30th.csv')"
   ]
  }
 ],
 "metadata": {
  "kernelspec": {
   "display_name": "Python 3",
   "language": "python",
   "name": "python3"
  },
  "language_info": {
   "codemirror_mode": {
    "name": "ipython",
    "version": 3
   },
   "file_extension": ".py",
   "mimetype": "text/x-python",
   "name": "python",
   "nbconvert_exporter": "python",
   "pygments_lexer": "ipython3",
   "version": "3.7.4"
  }
 },
 "nbformat": 4,
 "nbformat_minor": 2
}
