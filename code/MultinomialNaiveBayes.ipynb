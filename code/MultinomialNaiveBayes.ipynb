{
 "cells": [
  {
   "cell_type": "code",
   "execution_count": 50,
   "metadata": {},
   "outputs": [],
   "source": [
    "import pandas as pd\n",
    "import numpy as np\n",
    "import matplotlib.pyplot as plt\n",
    "import seaborn as sns\n",
    "\n",
    "%matplotlib inline\n",
    "\n",
    "import nltk\n",
    "import json\n",
    "from nltk.stem import WordNetLemmatizer\n",
    "from nltk.tokenize import RegexpTokenizer\n",
    "import regex as re\n",
    "\n",
    "from nltk.corpus import stopwords\n",
    "from bs4 import BeautifulSoup\n",
    "from sklearn.pipeline import Pipeline\n",
    "from sklearn.model_selection import train_test_split, GridSearchCV\n",
    "from sklearn.linear_model import LogisticRegression\n",
    "# Import CountVectorizer and TFIDFVectorizer from feature_extraction.text.\n",
    "from sklearn.feature_extraction.text import CountVectorizer, TfidfVectorizer\n",
    "from sklearn.metrics import confusion_matrix\n",
    "from sklearn.naive_bayes import BernoulliNB\n",
    "from sklearn.naive_bayes import MultinomialNB\n",
    "from sklearn.ensemble import VotingClassifier"
   ]
  },
  {
   "cell_type": "code",
   "execution_count": 51,
   "metadata": {},
   "outputs": [],
   "source": [
    "train = pd.read_csv(r'C:\\Users\\tonyb\\Documents\\GA\\PROJECTS\\DisasterAlert\\Training_set.csv')"
   ]
  },
  {
   "cell_type": "code",
   "execution_count": 52,
   "metadata": {},
   "outputs": [
    {
     "name": "stdout",
     "output_type": "stream",
     "text": [
      "<class 'pandas.core.frame.DataFrame'>\n",
      "RangeIndex: 6616 entries, 0 to 6615\n",
      "Data columns (total 3 columns):\n",
      "Unnamed: 0    6616 non-null int64\n",
      "text_clean    6616 non-null object\n",
      "label         6616 non-null int64\n",
      "dtypes: int64(2), object(1)\n",
      "memory usage: 155.2+ KB\n"
     ]
    }
   ],
   "source": [
    "train.info()"
   ]
  },
  {
   "cell_type": "code",
   "execution_count": 53,
   "metadata": {},
   "outputs": [
    {
     "data": {
      "text/plain": [
       "(6616, 3)"
      ]
     },
     "execution_count": 53,
     "metadata": {},
     "output_type": "execute_result"
    }
   ],
   "source": [
    "train.shape"
   ]
  },
  {
   "cell_type": "code",
   "execution_count": 54,
   "metadata": {},
   "outputs": [
    {
     "data": {
      "text/html": [
       "<div>\n",
       "<style scoped>\n",
       "    .dataframe tbody tr th:only-of-type {\n",
       "        vertical-align: middle;\n",
       "    }\n",
       "\n",
       "    .dataframe tbody tr th {\n",
       "        vertical-align: top;\n",
       "    }\n",
       "\n",
       "    .dataframe thead th {\n",
       "        text-align: right;\n",
       "    }\n",
       "</style>\n",
       "<table border=\"1\" class=\"dataframe\">\n",
       "  <thead>\n",
       "    <tr style=\"text-align: right;\">\n",
       "      <th></th>\n",
       "      <th>Unnamed: 0</th>\n",
       "      <th>text_clean</th>\n",
       "      <th>label</th>\n",
       "    </tr>\n",
       "  </thead>\n",
       "  <tbody>\n",
       "    <tr>\n",
       "      <td>0</td>\n",
       "      <td>0</td>\n",
       "      <td>There are ways for Colorado residents to stret...</td>\n",
       "      <td>1</td>\n",
       "    </tr>\n",
       "    <tr>\n",
       "      <td>1</td>\n",
       "      <td>1</td>\n",
       "      <td>RT Residents flee wildfire raging west of Athens</td>\n",
       "      <td>1</td>\n",
       "    </tr>\n",
       "    <tr>\n",
       "      <td>2</td>\n",
       "      <td>2</td>\n",
       "      <td>Canada B C s Okanagan braces for more wildfires</td>\n",
       "      <td>1</td>\n",
       "    </tr>\n",
       "    <tr>\n",
       "      <td>3</td>\n",
       "      <td>3</td>\n",
       "      <td>Evacuation orders as Ontario s wildfires keep ...</td>\n",
       "      <td>1</td>\n",
       "    </tr>\n",
       "    <tr>\n",
       "      <td>4</td>\n",
       "      <td>4</td>\n",
       "      <td>RT How rewildling can prevent wildfires</td>\n",
       "      <td>1</td>\n",
       "    </tr>\n",
       "  </tbody>\n",
       "</table>\n",
       "</div>"
      ],
      "text/plain": [
       "   Unnamed: 0                                         text_clean  label\n",
       "0           0  There are ways for Colorado residents to stret...      1\n",
       "1           1   RT Residents flee wildfire raging west of Athens      1\n",
       "2           2    Canada B C s Okanagan braces for more wildfires      1\n",
       "3           3  Evacuation orders as Ontario s wildfires keep ...      1\n",
       "4           4            RT How rewildling can prevent wildfires      1"
      ]
     },
     "execution_count": 54,
     "metadata": {},
     "output_type": "execute_result"
    }
   ],
   "source": [
    "train.head()"
   ]
  },
  {
   "cell_type": "code",
   "execution_count": 55,
   "metadata": {},
   "outputs": [
    {
     "data": {
      "text/html": [
       "<div>\n",
       "<style scoped>\n",
       "    .dataframe tbody tr th:only-of-type {\n",
       "        vertical-align: middle;\n",
       "    }\n",
       "\n",
       "    .dataframe tbody tr th {\n",
       "        vertical-align: top;\n",
       "    }\n",
       "\n",
       "    .dataframe thead th {\n",
       "        text-align: right;\n",
       "    }\n",
       "</style>\n",
       "<table border=\"1\" class=\"dataframe\">\n",
       "  <thead>\n",
       "    <tr style=\"text-align: right;\">\n",
       "      <th></th>\n",
       "      <th>Unnamed: 0</th>\n",
       "      <th>label</th>\n",
       "    </tr>\n",
       "  </thead>\n",
       "  <tbody>\n",
       "    <tr>\n",
       "      <td>count</td>\n",
       "      <td>6616.000000</td>\n",
       "      <td>6616.000000</td>\n",
       "    </tr>\n",
       "    <tr>\n",
       "      <td>mean</td>\n",
       "      <td>2739.039450</td>\n",
       "      <td>0.093108</td>\n",
       "    </tr>\n",
       "    <tr>\n",
       "      <td>std</td>\n",
       "      <td>1839.531021</td>\n",
       "      <td>0.290605</td>\n",
       "    </tr>\n",
       "    <tr>\n",
       "      <td>min</td>\n",
       "      <td>0.000000</td>\n",
       "      <td>0.000000</td>\n",
       "    </tr>\n",
       "    <tr>\n",
       "      <td>25%</td>\n",
       "      <td>1037.750000</td>\n",
       "      <td>0.000000</td>\n",
       "    </tr>\n",
       "    <tr>\n",
       "      <td>50%</td>\n",
       "      <td>2691.500000</td>\n",
       "      <td>0.000000</td>\n",
       "    </tr>\n",
       "    <tr>\n",
       "      <td>75%</td>\n",
       "      <td>4345.250000</td>\n",
       "      <td>0.000000</td>\n",
       "    </tr>\n",
       "    <tr>\n",
       "      <td>max</td>\n",
       "      <td>5999.000000</td>\n",
       "      <td>1.000000</td>\n",
       "    </tr>\n",
       "  </tbody>\n",
       "</table>\n",
       "</div>"
      ],
      "text/plain": [
       "        Unnamed: 0        label\n",
       "count  6616.000000  6616.000000\n",
       "mean   2739.039450     0.093108\n",
       "std    1839.531021     0.290605\n",
       "min       0.000000     0.000000\n",
       "25%    1037.750000     0.000000\n",
       "50%    2691.500000     0.000000\n",
       "75%    4345.250000     0.000000\n",
       "max    5999.000000     1.000000"
      ]
     },
     "execution_count": 55,
     "metadata": {},
     "output_type": "execute_result"
    }
   ],
   "source": [
    "train.describe()"
   ]
  },
  {
   "cell_type": "code",
   "execution_count": 56,
   "metadata": {},
   "outputs": [],
   "source": [
    "train.drop(['Unnamed: 0'], axis=1, inplace = True)"
   ]
  },
  {
   "cell_type": "code",
   "execution_count": 57,
   "metadata": {},
   "outputs": [
    {
     "data": {
      "text/html": [
       "<div>\n",
       "<style scoped>\n",
       "    .dataframe tbody tr th:only-of-type {\n",
       "        vertical-align: middle;\n",
       "    }\n",
       "\n",
       "    .dataframe tbody tr th {\n",
       "        vertical-align: top;\n",
       "    }\n",
       "\n",
       "    .dataframe thead th {\n",
       "        text-align: right;\n",
       "    }\n",
       "</style>\n",
       "<table border=\"1\" class=\"dataframe\">\n",
       "  <thead>\n",
       "    <tr style=\"text-align: right;\">\n",
       "      <th></th>\n",
       "      <th>text_clean</th>\n",
       "      <th>label</th>\n",
       "    </tr>\n",
       "  </thead>\n",
       "  <tbody>\n",
       "    <tr>\n",
       "      <td>0</td>\n",
       "      <td>There are ways for Colorado residents to stret...</td>\n",
       "      <td>1</td>\n",
       "    </tr>\n",
       "    <tr>\n",
       "      <td>1</td>\n",
       "      <td>RT Residents flee wildfire raging west of Athens</td>\n",
       "      <td>1</td>\n",
       "    </tr>\n",
       "    <tr>\n",
       "      <td>2</td>\n",
       "      <td>Canada B C s Okanagan braces for more wildfires</td>\n",
       "      <td>1</td>\n",
       "    </tr>\n",
       "    <tr>\n",
       "      <td>3</td>\n",
       "      <td>Evacuation orders as Ontario s wildfires keep ...</td>\n",
       "      <td>1</td>\n",
       "    </tr>\n",
       "    <tr>\n",
       "      <td>4</td>\n",
       "      <td>RT How rewildling can prevent wildfires</td>\n",
       "      <td>1</td>\n",
       "    </tr>\n",
       "  </tbody>\n",
       "</table>\n",
       "</div>"
      ],
      "text/plain": [
       "                                          text_clean  label\n",
       "0  There are ways for Colorado residents to stret...      1\n",
       "1   RT Residents flee wildfire raging west of Athens      1\n",
       "2    Canada B C s Okanagan braces for more wildfires      1\n",
       "3  Evacuation orders as Ontario s wildfires keep ...      1\n",
       "4            RT How rewildling can prevent wildfires      1"
      ]
     },
     "execution_count": 57,
     "metadata": {},
     "output_type": "execute_result"
    }
   ],
   "source": [
    "train.head()"
   ]
  },
  {
   "cell_type": "code",
   "execution_count": 58,
   "metadata": {},
   "outputs": [
    {
     "data": {
      "text/plain": [
       "0    6000\n",
       "1     616\n",
       "Name: label, dtype: int64"
      ]
     },
     "execution_count": 58,
     "metadata": {},
     "output_type": "execute_result"
    }
   ],
   "source": [
    "train['label'].value_counts()"
   ]
  },
  {
   "cell_type": "markdown",
   "metadata": {},
   "source": [
    "#### TRAIN TEST SPLIT"
   ]
  },
  {
   "cell_type": "code",
   "execution_count": 59,
   "metadata": {},
   "outputs": [],
   "source": [
    "X = train['text_clean']\n",
    "y = train.label"
   ]
  },
  {
   "cell_type": "code",
   "execution_count": 60,
   "metadata": {},
   "outputs": [
    {
     "data": {
      "text/plain": [
       "0    0.906892\n",
       "1    0.093108\n",
       "Name: label, dtype: float64"
      ]
     },
     "execution_count": 60,
     "metadata": {},
     "output_type": "execute_result"
    }
   ],
   "source": [
    "y.value_counts(normalize=True)"
   ]
  },
  {
   "cell_type": "code",
   "execution_count": 86,
   "metadata": {},
   "outputs": [],
   "source": [
    "# Split the data into the training and testing sets.\n",
    "X_train, X_test, y_train, y_test = train_test_split(X,\n",
    "                                                   y,\n",
    "                                                    test_size=0.33,\n",
    "                                                    stratify=y,\n",
    "                                                   random_state=42)"
   ]
  },
  {
   "cell_type": "markdown",
   "metadata": {},
   "source": [
    "#### HYPERTUNE COUNT VECTORIZER"
   ]
  },
  {
   "cell_type": "code",
   "execution_count": 87,
   "metadata": {},
   "outputs": [],
   "source": [
    "pipe = Pipeline([\n",
    "    ('cvec', CountVectorizer()),\n",
    "    ('model', MultinomialNB()),\n",
    "])"
   ]
  },
  {
   "cell_type": "code",
   "execution_count": 110,
   "metadata": {},
   "outputs": [],
   "source": [
    "pipe_params = {\n",
    "    'cvec__max_features': [1000,2000],\n",
    "    'cvec__min_df': [2, 3],\n",
    "    'cvec__max_df': [.9, .95],\n",
    "    'cvec__ngram_range': [(1,1), (1,2)],\n",
    "    \n",
    "}"
   ]
  },
  {
   "cell_type": "code",
   "execution_count": 111,
   "metadata": {},
   "outputs": [],
   "source": [
    "gs = GridSearchCV(pipe, \n",
    "                  param_grid=pipe_params,\n",
    "                  cv=3)"
   ]
  },
  {
   "cell_type": "code",
   "execution_count": 112,
   "metadata": {},
   "outputs": [
    {
     "data": {
      "text/plain": [
       "GridSearchCV(cv=3, error_score='raise-deprecating',\n",
       "             estimator=Pipeline(memory=None,\n",
       "                                steps=[('cvec',\n",
       "                                        CountVectorizer(analyzer='word',\n",
       "                                                        binary=False,\n",
       "                                                        decode_error='strict',\n",
       "                                                        dtype=<class 'numpy.int64'>,\n",
       "                                                        encoding='utf-8',\n",
       "                                                        input='content',\n",
       "                                                        lowercase=True,\n",
       "                                                        max_df=1.0,\n",
       "                                                        max_features=None,\n",
       "                                                        min_df=1,\n",
       "                                                        ngram_range=(1, 1),\n",
       "                                                        preprocessor=None,\n",
       "                                                        stop_words=None,\n",
       "                                                        strip_accents=None,\n",
       "                                                        tok...,\n",
       "                                                        tokenizer=None,\n",
       "                                                        vocabulary=None)),\n",
       "                                       ('model',\n",
       "                                        MultinomialNB(alpha=1.0,\n",
       "                                                      class_prior=None,\n",
       "                                                      fit_prior=True))],\n",
       "                                verbose=False),\n",
       "             iid='warn', n_jobs=None,\n",
       "             param_grid={'cvec__max_df': [0.9, 0.95],\n",
       "                         'cvec__max_features': [1000, 2000],\n",
       "                         'cvec__min_df': [2, 3],\n",
       "                         'cvec__ngram_range': [(1, 1), (1, 2)]},\n",
       "             pre_dispatch='2*n_jobs', refit=True, return_train_score=False,\n",
       "             scoring=None, verbose=0)"
      ]
     },
     "execution_count": 112,
     "metadata": {},
     "output_type": "execute_result"
    }
   ],
   "source": [
    "gs.fit(X_train, y_train)"
   ]
  },
  {
   "cell_type": "code",
   "execution_count": 100,
   "metadata": {},
   "outputs": [
    {
     "name": "stdout",
     "output_type": "stream",
     "text": [
      "0.9857851985559567\n"
     ]
    }
   ],
   "source": [
    "print(gs.best_score_)"
   ]
  },
  {
   "cell_type": "code",
   "execution_count": 101,
   "metadata": {},
   "outputs": [],
   "source": [
    "gs_model = gs.best_estimator_"
   ]
  },
  {
   "cell_type": "code",
   "execution_count": 102,
   "metadata": {},
   "outputs": [
    {
     "data": {
      "text/plain": [
       "0.9880415162454874"
      ]
     },
     "execution_count": 102,
     "metadata": {},
     "output_type": "execute_result"
    }
   ],
   "source": [
    "gs_model.score(X_train, y_train)"
   ]
  },
  {
   "cell_type": "code",
   "execution_count": 103,
   "metadata": {},
   "outputs": [
    {
     "data": {
      "text/plain": [
       "0.9812271062271062"
      ]
     },
     "execution_count": 103,
     "metadata": {},
     "output_type": "execute_result"
    }
   ],
   "source": [
    "gs_model.score(X_test, y_test)"
   ]
  },
  {
   "cell_type": "markdown",
   "metadata": {},
   "source": [
    "#### APPLY COUNT VECTORIZER"
   ]
  },
  {
   "cell_type": "code",
   "execution_count": 13,
   "metadata": {},
   "outputs": [],
   "source": [
    "cvec=CountVectorizer(stop_words=('english'),max_features=1000,ngram_range=(1,2))"
   ]
  },
  {
   "cell_type": "code",
   "execution_count": 14,
   "metadata": {},
   "outputs": [
    {
     "data": {
      "text/plain": [
       "CountVectorizer(analyzer='word', binary=False, decode_error='strict',\n",
       "                dtype=<class 'numpy.int64'>, encoding='utf-8', input='content',\n",
       "                lowercase=True, max_df=1.0, max_features=1000, min_df=1,\n",
       "                ngram_range=(1, 2), preprocessor=None, stop_words='english',\n",
       "                strip_accents=None, token_pattern='(?u)\\\\b\\\\w\\\\w+\\\\b',\n",
       "                tokenizer=None, vocabulary=None)"
      ]
     },
     "execution_count": 14,
     "metadata": {},
     "output_type": "execute_result"
    }
   ],
   "source": [
    "cvec.fit(X_train)"
   ]
  },
  {
   "cell_type": "code",
   "execution_count": 15,
   "metadata": {},
   "outputs": [
    {
     "name": "stdout",
     "output_type": "stream",
     "text": [
      "{'rt': 700, 'wanna': 926, 'really': 679, 'video': 914, 'check': 160, 'brother': 137, 'mean': 548, 'wrong': 983, 'okay': 606, 'felt': 305, 'like': 500, 'inside': 441, 'start': 806, 'war': 930, 'pay': 622, 'shit': 773, 'fly': 318, 'home': 411, 'perfect': 628, 'warning': 931, 'services': 766, 'area': 77, 'trump': 883, 'putin': 664, 'called': 144, 'question': 666, 'long': 521, 'term': 845, 'russian': 735, 'man': 543, 'don': 245, 'know': 477, 'love': 533, 'woman': 964, 'ain': 63, 'real': 676, 'friends': 332, 'rt don': 706, 'don know': 247, 'life': 499, 'twitter': 896, 'making': 542, 'talking': 838, 'thing': 852, 'does': 241, 'wait': 922, 'meet': 551, 'greece': 365, 'fires': 314, 'live': 513, '60': 35, 'dead': 213, '150': 11, 'injured': 439, 'worst': 976, 'wildfires': 951, 'decade': 223, 'athens': 87, 'rt greece': 710, 'worst wildfires': 977, 'wildfires decade': 954, 'realize': 678, 'everyday': 276, 'quite': 668, 'lot': 530, 'people': 624, 'doing': 244, 'listen': 509, 'facts': 289, 'right': 696, 'kim': 472, 'possible': 648, '16': 12, 'deserve': 229, 'just': 462, 'event': 274, 'kind': 473, 'leadership': 489, 'high': 405, 'school': 749, 'years': 991, 'family': 293, 'time': 860, 'growing': 372, 'opening': 611, 'weekend': 942, 'update': 904, '50': 30, 'died': 236, 'region': 684, 'greek': 368, 'rt update': 728, '50 people': 33, 'people died': 626, 'injured wildfires': 440, 'using': 909, 'money': 566, 'terrible': 846, 'yeah': 988, 'rt 50': 701, 'dead greece': 214, 'killed': 467, 'close': 172, 'matter': 546, 'good': 359, 'look': 522, 'work': 970, 'damn': 206, 'bitch': 122, 'ugly': 899, 'funny': 338, 'got': 361, 'ya': 986, 'crying': 199, 'today': 865, 'level': 497, 'isn': 446, 'scared': 746, 'play': 639, 'game': 340, 'literally': 511, 'secret': 754, 'hate': 389, 'guess': 374, 'care': 148, 'seen': 757, 'new': 588, 'greece wildfires': 366, 'images': 432, 'fake': 290, '10': 3, 'music': 576, 'class': 169, 'took': 871, 'voice': 917, 'oh': 603, 'morning': 571, 'retweet': 693, 'wish': 962, 'doesn': 242, 'color': 175, 'things': 853, '00': 0, 'wind': 961, 'rain': 671, 'fine': 312, 'weather': 938, 'president': 657, 'gonna': 358, 'fun': 337, 'im': 431, 'strong': 818, 'friend': 331, 'try': 887, 'everybody': 275, 'going': 356, 'cares': 149, 'set': 767, 'children': 163, 'parents': 618, 'missed': 560, 'second': 753, 'july': 460, 'shut': 778, 'come': 177, 'spreading': 801, 'wildfire': 948, 'need': 584, 'help': 402, 'asked': 84, 'let': 496, 'forget': 325, 'day': 211, 'amp': 70, 'follow': 319, 'followers': 320, 'pictures': 636, 'needs': 586, 'rt new': 722, 'fr': 328, 'started': 807, 'youtube': 998, 'watch': 933, '15': 10, 'facebook': 287, 'tips': 862, 'free': 329, 'click': 170, 'choose': 165, 'government': 363, 'reality': 677, 'immigration': 434, 'history': 407, 'wouldn': 979, 'did': 233, 'actual': 49, 'hope': 414, 'gets': 344, 'car': 146, 'wants': 929, 'hey': 403, 'll': 516, 'playing': 640, 'different': 237, 'including': 436, 'rt hey': 715, 'pray': 653, 'eyes': 285, 'heart': 398, 'order': 613, 'best': 113, 'fortnite': 326, 'link': 507, 'double': 249, 'https': 420, 'comes': 179, 'battle': 103, 'post': 649, 'god': 354, 'change': 157, 'drink': 253, 'remember': 687, 'sleep': 788, 'stay': 811, 'needed': 585, 'dm': 240, 'album': 65, 'feel': 303, 'ok': 605, 'comments': 182, 'stories': 814, 'special': 799, 'stuff': 822, 'end': 266, 'thanks': 850, 'idea': 428, 'trying': 888, 'person': 630, 'didn': 234, 'make': 540, 'kill': 465, 'imagine': 433, 'police': 645, 'id': 427, 'card': 147, 'bro': 135, 'united': 903, 'states': 810, 'america': 68, 'russia': 734, 'thoughts': 858, 'prayers': 654, 'dance': 207, 'happy': 386, 'birthday': 120, 'happy birthday': 387, 'looks': 525, 'says': 745, 'yall': 987, 'tell': 844, 'currently': 201, 'fav': 300, 'lol': 520, 'tv': 893, 'news': 589, '11': 6, 'girl': 346, 'beautiful': 110, 'county': 195, 'vote': 918, '07': 2, '2nd': 25, 'place': 637, 'voting': 920, 'number': 598, 'zero': 999, 'families': 292, 'power': 651, 'forever': 324, 'saying': 744, 'eat': 262, 'won': 966, 'soon': 796, 'likes': 504, 'maybe': 547, 'crazy': 198, 'read': 673, 'anymore': 73, 'welcome': 943, 'world': 974, 've': 911, 'great': 364, 'health': 393, 'mtvhottest': 575, 'woke': 963, 'lord': 526, 'ma': 537, 'com': 176, 'boys': 131, 'bring': 134, 'bc': 107, 'seeing': 756, 'lately': 484, 'bbc': 105, 'ex': 277, 'street': 817, 'bbc news': 106, 'thank': 849, 'week': 941, 'say': 743, 'leaders': 488, 'page': 615, 'media': 550, 'getting': 345, 'hot': 415, 'rt know': 718, 'international': 444, 'fans': 295, 'face': 286, 'catch': 152, 'case': 150, 'pussy': 663, 'caught': 153, 'body': 127, 'leave': 493, 'heard': 396, 'safe': 739, 'stage': 804, 'hurt': 425, 'dick': 232, '2018': 18, 'cover': 197, 'city': 167, 'definitely': 226, 'looking': 524, 'forward': 327, 'episode': 271, 'big': 117, 'baby': 99, '12': 7, 'times': 861, 'aren': 79, 'actually': 50, 'happened': 383, 'sent': 761, 'sir': 783, 'thinking': 855, 'congrats': 186, 'nice': 590, 'rt ve': 729, 'lmao': 517, 'black': 124, 'guy': 376, 'pretty': 659, 'resort': 691, 'town': 873, 'east': 260, 'fan': 294, 'flames': 315, 'massive': 544, 'idk': 430, 'goes': 355, 'sorry': 797, 'future': 339, 'dozens': 250, 'deadliest': 216, 'wildfires kill': 956, 'girls': 347, 'park': 619, 'omg': 608, 'share': 770, 'note': 595, 'told': 866, 'working': 972, 'lie': 498, 'truth': 886, 'goal': 353, '20': 14, 'old': 607, 'age': 59, 'build': 139, 'works': 973, 'continues': 189, 'believe': 112, 'late': 483, 'think': 854, 'better': 115, 'open': 610, 'state': 809, 'single': 782, 'friday': 330, 'tweet': 894, 'dear': 220, 'fbi': 302, 'rt dear': 704, 'thought': 857, 'came': 145, 'trust': 884, 'article': 82, 'mention': 553, 'stop': 812, 'beach': 109, 'california': 143, 'amazing': 67, 'support': 829, 'use': 907, 'air': 64, 'country': 194, 'valley': 910, 'hear': 395, 'twt': 897, 'moon': 570, 'guys': 377, 'account': 45, 'straight': 816, 'test': 847, 'awesome': 97, 'join': 459, 'ht': 419, 'moment': 564, 'mom': 563, 'gives': 350, '2017': 17, 'gave': 342, 'way': 936, 'pre': 656, 'pls': 642, 'said': 740, 'jimin': 457, 'takes': 835, 'pics': 635, 'ready': 675, 'dont': 248, 'administration': 54, 'billion': 119, 'tariffs': 839, 'series': 763, 'left': 495, 'gun': 375, 'learning': 492, 'thread': 859, 'minutes': 558, 'chance': 156, 'die': 235, 'instagram': 442, 'water': 935, 'fighting': 309, 'retweets': 694, 'loved': 534, 'rt end': 707, 'knowing': 478, 'yes': 993, 'vs': 921, 'culture': 200, 'sad': 738, 'excited': 279, 'latest': 486, 'shop': 774, 'style': 823, 'tonight': 870, 'haven': 390, 'ryan': 736, 'want': 927, 'miss': 559, 'sure': 831, 'ppl': 652, 'residents': 690, 'super': 828, 'continue': 188, 'report': 688, 'cause': 154, 'bts': 138, 'learn': 491, 'appreciate': 74, 'makes': 541, 'demi': 227, 'lovato': 532, 'demi lovato': 228, 'daily': 205, 'near': 582, 'near athens': 583, 'athens families': 88, 'added': 52, 'wonderful': 967, 'young': 997, 'rt happy': 712, 'story': 815, 'yesterday': 994, 'gone': 357, 'gorgeous': 360, 'job': 458, 'year': 989, 'wasn': 932, 'ass': 86, 'enjoy': 268, '99': 41, 'digital': 238, 'ask': 83, 'given': 349, 'wtf': 984, 'fucked': 335, 'tho': 856, 'oh god': 604, 'house': 418, 'security': 755, 'rt just': 717, 'breaking': 133, 'death': 221, 'toll': 867, 'rises': 697, '74': 38, 'firefighters': 313, 'rt breaking': 703, 'death toll': 222, 'tax': 840, 'self': 758, 'important': 435, 'film': 310, 'alive': 66, '74 dead': 39, 'greek wildfires': 370, 'holiday': 410, 'killing': 470, '24': 21, 'early': 259, 'tuesday': 889, 'draw': 252, 'art': 81, 'burning': 140, 'king': 474, 'kids': 464, 'outside': 614, 'sa': 737, 'songs': 795, 'used': 908, 'hair': 380, 'exactly': 278, 'understanding': 902, 'victims': 913, 'greek wildfire': 369, 'wearing': 937, 'obama': 599, 'able': 42, 'iran': 445, 'fact': 288, 'completely': 184, 'days': 212, 'gay': 343, 'smile': 790, 'past': 621, 'lock': 519, 'september': 762, 'group': 371, 'white': 946, 'proud': 662, 'showing': 776, 'personal': 631, 'website': 939, 'israel': 447, 'offer': 600, 'send': 759, 'wildfires near': 958, '100': 4, 'kills': 471, 'bad': 100, 'happen': 382, 'control': 190, 'yo': 995, 'mood': 569, 'key': 463, 'sea': 751, '25': 23, 'happens': 384, 'sending': 760, 'raise': 672, 'service': 765, 'bcwildfire': 108, 'north': 594, 'social': 792, 'sick': 779, 'rt today': 727, 'wildfires greece': 955, 'season': 752, 'th': 848, '23': 20, 'tour': 872, 'women': 965, 'nude': 597, 'sexy': 769, 'having': 391, 'sex': 768, 'videos': 915, 'battling': 104, 'deadly': 217, 'deadly wildfires': 218, 'announce': 71, 'happiness': 385, 'favorite': 301, 'hundreds': 424, 'lucky': 536, 'period': 629, 'entire': 270, 'fast': 298, 'moving': 574, 'wildfires killed': 957, 'killed 74': 468, '74 people': 40, 'smoke': 791, 'rage': 669, 'athens greece': 89, 'wildfires rage': 959, 'boobs': 128, 'adult': 55, 'porn': 647, 'st': 802, 'dude': 256, 'social media': 793, 'netflix': 587, 'version': 912, 'human': 423, 'line': 506, 'look like': 523, 'em': 264, 'claims': 168, '22': 19, 'rt did': 705, 'cute': 203, 'data': 208, 'highest': 406, 'night': 592, 'nation': 579, 'rt want': 730, 'write': 981, 'sign': 780, '20 dead': 15, 'areas': 78, 'emergency': 265, 'men': 552, 'glad': 351, 'dad': 204, 'sharing': 771, 'china': 164, 'wildfire near': 950, 'word': 968, 'lil': 505, 'bit': 121, 'rt people': 723, 'attica': 92, 'rt wildfires': 731, '60 people': 36, 'attica region': 93, 'rt great': 709, 'rt follow': 708, 'talk': 837, 'coming': 180, 'waiting': 923, 'ha': 378, 'minister': 557, 'japan': 452, 'hard': 388, 'decided': 224, 'hello': 401, 'india': 437, 'energy': 267, 'non': 593, 'hearing': 397, 'understand': 901, 'army': 80, 'absolutely': 43, 'phone': 632, 'national': 580, 'hold': 409, 'site': 785, 'south': 798, '18': 13, 'climate': 171, 'release': 686, 'sky': 787, '30': 26, 'red': 683, 'fucking': 336, 'force': 323, 'flee': 317, 'dead wildfires': 215, 'pain': 617, 'went': 944, 'song': 794, 'tweets': 895, 'win': 960, 'heat': 399, 'book': 129, 'indian': 438, 'hell': 400, 'voted': 919, 'declared': 225, 'disaster': 239, 'rt look': 719, 'bodies': 126, 'changes': 158, 'taking': 836, 'photo': 633, 'shows': 777, 'little': 512, 'action': 47, 'prayfordemi': 655, 'official': 601, 'people killed': 627, 'killed wildfires': 469, 'uk': 900, 'rt rt': 725, 'comment': 181, 'west': 945, 'boy': 130, 'law': 487, 'president trump': 658, 'run': 732, 'sit': 784, 'bed': 111, 'point': 644, 'mourning': 572, 'rt greek': 711, 'answer': 72, 'community': 183, 'chief': 161, 'million': 555, 'honestly': 413, 'nigga': 591, 'visit': 916, 'local': 518, 'wife': 947, 'wow': 980, 'party': 620, 'mad': 538, 'thats': 851, 'deal': 219, 'child': 162, 'tears': 843, 'save': 741, 'gt': 373, 'arctic': 75, 'circle': 166, 'sweden': 833, 'arctic circle': 76, 'reports': 689, 'expected': 281, 'spread': 800, 'issues': 448, 'recorded': 682, '50 killed': 32, '100 injured': 5, 'following': 321, 'types': 898, 'worth': 978, 'risk': 698, 'experience': 282, 'styles': 824, 'available': 95, 'rt heart': 714, 'knew': 476, 'homes': 412, 'addiction': 53, 'lady': 480, 'far': 296, 'actions': 48, 'supposed': 830, 'fight': 308, 'cat': 151, 'problem': 661, 'seriously': 764, 'ago': 60, 'running': 733, 'middle': 554, 'room': 699, 'photos': 634, 'fuck': 334, 'athens wildfires': 90, 'months': 568, 'comeback': 178, 'raging': 670, 'hour': 416, 'sing': 781, 'shirt': 772, 'confirmed': 185, 'xxx': 985, 'babe': 98, 'rt make': 721, 'years ago': 992, 'bank': 101, 'record': 681, 'hit': 408, 'hours': 417, 'global': 352, 'peace': 623, 'mind': 556, 'true': 880, 'biggest': 118, 'healthcare': 394, 'away': 96, 'according': 44, 'eu': 272, 'head': 392, 'ur': 905, 'tits': 864, 'tired': 863, 'nowplaying': 596, 'extra': 284, 'father': 299, 'lost': 529, 'business': 141, 'asking': 85, 'se': 750, 'feeling': 304, 'broke': 136, 'tragedy': 875, '50 dead': 31, 'food': 322, 'design': 230, 'japanese': 453, 'interesting': 443, 'american': 69, 'living': 515, 'tried': 879, 'mati': 545, 'turned': 892, 'truly': 882, 'jazz': 454, 'sun': 827, 'daughter': 210, 'customer': 202, 'student': 821, 'led': 494, 'europe': 273, '000': 1, 'huge': 422, 'small': 789, 'act': 46, 'don believe': 246, 'towns': 874, 'lives': 514, 'rich': 695, '70': 37, 'ah': 62, 'centre': 155, 'tomorrow': 869, 'rt im': 716, 'officials': 602, 'closed': 173, '26': 24, 'finally': 311, 'political': 646, 'liked': 502, 'liked video': 503, 'team': 842, 'train': 877, 'people dead': 625, 'rt hate': 713, 'cost': 193, 'plays': 641, 'festival': 307, 'scenes': 748, 'summer': 826, 'online': 609, 'large': 481, 'advice': 56, 'couple': 196, 'shot': 775, 'tune': 890, 'chat': 159, 'dr': 251, 'questions': 667, 'paid': 616, '20 people': 16, 'worse': 975, 'reading': 674, 'july 24': 461, '24 2018': 22, 'huddled': 421, 'easy': 261, 'rt best': 702, 'struck': 819, 'flamethrower': 316, 'struck like': 820, 'like flamethrower': 501, 'giveaway': 348, 'august': 94, 'missing': 561, '14': 9, 'yosemite': 996, 'haha': 379, 'exo': 280, 'farmers': 297, 'naked': 578, 'scene': 747, 'staff': 803, '49': 29, 'rt love': 720, 'cool': 192, 'list': 508, 'rt thoughts': 726, 'year old': 990, 'later': 485, 'relationship': 685, 'bitcoin': 123, 'ivanka': 451, 'stand': 805, 'add': 51, 'dating': 209, 'drop': 255, 'dog': 243, 'movie': 573, 'wanted': 928, 'toll wildfires': 868, 'saw': 742, 'written': 982, 'largest': 482, 'biblical': 116, 'month': 567, 'wildfire kills': 949, 'plan': 638, 'taken': 834, 'devastating': 231, 'female': 306, 'election': 263, 'posts': 650, 'break': 132, 'surprised': 832, 'tragic': 876, 'opinion': 612, 'sucks': 825, 'ft': 333, 'league': 490, '3rd': 28, 'buy': 142, 'watching': 934, 'true true': 881, 'games': 341, 'starting': 808, 'monday': 565, 'lose': 527, 'rt really': 724, 'mix': 562, 'store': 813, 'walk': 925, 'na': 577, 'hi': 404, 'bet': 114, 'closer': 174, 'travel': 878, 'affected': 57, 'affected wildfires': 58, 'wildfires athens': 952, 'conversation': 191, 'greecefires': 367, 'explain': 283, 'idiot': 429, 'agree': 61, 'rest': 692, 'lots': 531, 'situation': 786, 'listening': 510, 'hand': 381, 'usa': 906, 'gotta': 362, 'maga': 539, 'tbh': 841, 'turn': 891, 'enjoying': 269, '13': 8, 'reason': 680, 'wake': 924, '31': 27, 'wedding': 940, 'ich': 426, 'pm': 643, '500': 34, 'ji': 456, 'fall': 291, 'nct': 581, 'kiss': 475, 'probably': 660, 'dumb': 257, 'low': 535, 'loss': 528, 'wildfires attica': 953, 'knows': 479, 'words': 969, 'queen': 665, 'workers': 971, 'itchy': 449, 'itchy ich': 450, 'blue': 125, 'meant': 549, 'drive': 254, 'dying': 258, 'based': 102, 'contact': 187, 'kill 74': 466, 'attention': 91, 'trust issues': 885, 'jennie': 455}\n"
     ]
    }
   ],
   "source": [
    "print(cvec.vocabulary_)"
   ]
  },
  {
   "cell_type": "code",
   "execution_count": 16,
   "metadata": {},
   "outputs": [],
   "source": [
    "X_train_cvec = cvec.transform(X_train)"
   ]
  },
  {
   "cell_type": "code",
   "execution_count": 17,
   "metadata": {},
   "outputs": [],
   "source": [
    "X_test_cvec = cvec.transform(X_test)"
   ]
  },
  {
   "cell_type": "code",
   "execution_count": 18,
   "metadata": {},
   "outputs": [],
   "source": [
    "c_train = pd.DataFrame(X_train_cvec.toarray(),\n",
    "                        columns=cvec.get_feature_names())"
   ]
  },
  {
   "cell_type": "code",
   "execution_count": 19,
   "metadata": {},
   "outputs": [],
   "source": [
    "c_test = pd.DataFrame(X_test_cvec.toarray(),\n",
    "                        columns=cvec.get_feature_names())"
   ]
  },
  {
   "cell_type": "markdown",
   "metadata": {},
   "source": [
    "#### CONDUCT EDA ON RESULTING CVEC DATA SETS"
   ]
  },
  {
   "cell_type": "code",
   "execution_count": 20,
   "metadata": {
    "scrolled": true
   },
   "outputs": [
    {
     "data": {
      "image/png": "[encoded data removed]",
      "text/plain": [
       "<Figure size 432x288 with 1 Axes>"
      ]
     },
     "metadata": {
      "needs_background": "light"
     },
     "output_type": "display_data"
    }
   ],
   "source": [
    "c_train.sum().sort_values().tail(10).plot(kind = 'barh');\n",
    "plt.title(\"MOST FREQUENT WORDS IN C-TRAIN SET\");"
   ]
  },
  {
   "cell_type": "code",
   "execution_count": 23,
   "metadata": {
    "scrolled": true
   },
   "outputs": [
    {
     "data": {
      "image/png": "[encoded data removed]",
      "text/plain": [
       "<Figure size 432x288 with 1 Axes>"
      ]
     },
     "metadata": {
      "needs_background": "light"
     },
     "output_type": "display_data"
    }
   ],
   "source": [
    "c_test.sum().sort_values().head(10).plot(kind='barh');\n",
    "plt.title(\"LEAST FREQUENT WORDS IN C-TEST SET\");"
   ]
  },
  {
   "cell_type": "markdown",
   "metadata": {},
   "source": [
    "#### NOTE: \n",
    " - Based on the high presence of the pronoun \"it\" in the train and test sets, \"it\" should be added to stopwords"
   ]
  },
  {
   "cell_type": "markdown",
   "metadata": {},
   "source": [
    "#### MULTINOMIAL NAIVE BAYES MODEL WITH CVEC"
   ]
  },
  {
   "cell_type": "code",
   "execution_count": 128,
   "metadata": {},
   "outputs": [],
   "source": [
    "model= MultinomialNB()"
   ]
  },
  {
   "cell_type": "code",
   "execution_count": 129,
   "metadata": {},
   "outputs": [],
   "source": [
    "model.fit(X_train_cvec, y_train);"
   ]
  },
  {
   "cell_type": "code",
   "execution_count": 130,
   "metadata": {},
   "outputs": [],
   "source": [
    "preds = model.predict(X_test_cvec)"
   ]
  },
  {
   "cell_type": "code",
   "execution_count": 133,
   "metadata": {},
   "outputs": [
    {
     "data": {
      "text/plain": [
       "0.9885531135531136"
      ]
     },
     "execution_count": 133,
     "metadata": {},
     "output_type": "execute_result"
    }
   ],
   "source": [
    "#provides us with the accuracy score\n",
    "model.score(X_test_cvec,y_test)"
   ]
  },
  {
   "cell_type": "code",
   "execution_count": 134,
   "metadata": {},
   "outputs": [
    {
     "data": {
      "text/plain": [
       "array([[1964,   17],\n",
       "       [   8,  195]], dtype=int64)"
      ]
     },
     "execution_count": 134,
     "metadata": {},
     "output_type": "execute_result"
    }
   ],
   "source": [
    "confusion_matrix(y_test, \n",
    "                 preds) "
   ]
  },
  {
   "cell_type": "code",
   "execution_count": 135,
   "metadata": {},
   "outputs": [],
   "source": [
    "tn, fp, fn, tp = confusion_matrix(y_test, preds).ravel()"
   ]
  },
  {
   "cell_type": "code",
   "execution_count": null,
   "metadata": {},
   "outputs": [],
   "source": []
  },
  {
   "cell_type": "markdown",
   "metadata": {},
   "source": [
    "#### HYPERTUNE TFIDF VECTORIZER"
   ]
  },
  {
   "cell_type": "code",
   "execution_count": 117,
   "metadata": {},
   "outputs": [],
   "source": [
    "pipe2 = Pipeline([\n",
    "    ('tvec', TfidfVectorizer()),\n",
    "    ('model', MultinomialNB()),\n",
    "])"
   ]
  },
  {
   "cell_type": "code",
   "execution_count": 118,
   "metadata": {},
   "outputs": [],
   "source": [
    "pipe2_params = {\n",
    "    'tvec__max_features': [1000,2000],\n",
    "    'tvec__min_df': [2, 3],\n",
    "    'tvec__max_df': [.9, .95],\n",
    "    'tvec__ngram_range': [(1,1), (1,2)],\n",
    "    \n",
    "}"
   ]
  },
  {
   "cell_type": "code",
   "execution_count": 119,
   "metadata": {},
   "outputs": [],
   "source": [
    "gs2 = GridSearchCV(pipe, \n",
    "                  param_grid=pipe_params,\n",
    "                  cv=3)"
   ]
  },
  {
   "cell_type": "code",
   "execution_count": 120,
   "metadata": {},
   "outputs": [
    {
     "data": {
      "text/plain": [
       "GridSearchCV(cv=3, error_score='raise-deprecating',\n",
       "             estimator=Pipeline(memory=None,\n",
       "                                steps=[('tvec',\n",
       "                                        TfidfVectorizer(analyzer='word',\n",
       "                                                        binary=False,\n",
       "                                                        decode_error='strict',\n",
       "                                                        dtype=<class 'numpy.float64'>,\n",
       "                                                        encoding='utf-8',\n",
       "                                                        input='content',\n",
       "                                                        lowercase=True,\n",
       "                                                        max_df=1.0,\n",
       "                                                        max_features=None,\n",
       "                                                        min_df=1,\n",
       "                                                        ngram_range=(1, 1),\n",
       "                                                        norm='l2',\n",
       "                                                        preprocessor=None,\n",
       "                                                        smooth_idf=True,\n",
       "                                                        stop_words...\n",
       "                                                        tokenizer=None,\n",
       "                                                        use_idf=True,\n",
       "                                                        vocabulary=None)),\n",
       "                                       ('model',\n",
       "                                        MultinomialNB(alpha=1.0,\n",
       "                                                      class_prior=None,\n",
       "                                                      fit_prior=True))],\n",
       "                                verbose=False),\n",
       "             iid='warn', n_jobs=None,\n",
       "             param_grid={'tvec__max_df': [0.9, 0.95],\n",
       "                         'tvec__max_features': [1000, 2000],\n",
       "                         'tvec__min_df': [2, 3],\n",
       "                         'tvec__ngram_range': [(1, 1), (1, 2)]},\n",
       "             pre_dispatch='2*n_jobs', refit=True, return_train_score=False,\n",
       "             scoring=None, verbose=0)"
      ]
     },
     "execution_count": 120,
     "metadata": {},
     "output_type": "execute_result"
    }
   ],
   "source": [
    "gs2.fit(X_train, y_train)"
   ]
  },
  {
   "cell_type": "code",
   "execution_count": 121,
   "metadata": {},
   "outputs": [
    {
     "name": "stdout",
     "output_type": "stream",
     "text": [
      "0.9785649819494585\n"
     ]
    }
   ],
   "source": [
    "print(gs2.best_score_)"
   ]
  },
  {
   "cell_type": "code",
   "execution_count": 122,
   "metadata": {},
   "outputs": [],
   "source": [
    "gs2_model = gs.best_estimator_"
   ]
  },
  {
   "cell_type": "code",
   "execution_count": 123,
   "metadata": {},
   "outputs": [
    {
     "data": {
      "text/plain": [
       "0.9839801444043321"
      ]
     },
     "execution_count": 123,
     "metadata": {},
     "output_type": "execute_result"
    }
   ],
   "source": [
    "gs2_model.score(X_train, y_train)"
   ]
  },
  {
   "cell_type": "code",
   "execution_count": 124,
   "metadata": {},
   "outputs": [
    {
     "data": {
      "text/plain": [
       "0.9821428571428571"
      ]
     },
     "execution_count": 124,
     "metadata": {},
     "output_type": "execute_result"
    }
   ],
   "source": [
    "gs2_model.score(X_test, y_test)"
   ]
  },
  {
   "cell_type": "markdown",
   "metadata": {},
   "source": [
    "####  APPLY AND EVALUATE TFIDF VECTORIZER"
   ]
  },
  {
   "cell_type": "code",
   "execution_count": 24,
   "metadata": {},
   "outputs": [],
   "source": [
    "tvec =TfidfVectorizer(stop_words='english',max_features=1000,ngram_range=(1,2))"
   ]
  },
  {
   "cell_type": "code",
   "execution_count": 25,
   "metadata": {},
   "outputs": [
    {
     "data": {
      "text/plain": [
       "TfidfVectorizer(analyzer='word', binary=False, decode_error='strict',\n",
       "                dtype=<class 'numpy.float64'>, encoding='utf-8',\n",
       "                input='content', lowercase=True, max_df=1.0, max_features=1000,\n",
       "                min_df=1, ngram_range=(1, 2), norm='l2', preprocessor=None,\n",
       "                smooth_idf=True, stop_words='english', strip_accents=None,\n",
       "                sublinear_tf=False, token_pattern='(?u)\\\\b\\\\w\\\\w+\\\\b',\n",
       "                tokenizer=None, use_idf=True, vocabulary=None)"
      ]
     },
     "execution_count": 25,
     "metadata": {},
     "output_type": "execute_result"
    }
   ],
   "source": [
    "tvec.fit(X_train)"
   ]
  },
  {
   "cell_type": "code",
   "execution_count": 26,
   "metadata": {
    "scrolled": true
   },
   "outputs": [
    {
     "name": "stdout",
     "output_type": "stream",
     "text": [
      "{'rt': 700, 'wanna': 926, 'really': 679, 'video': 914, 'check': 160, 'brother': 137, 'mean': 548, 'wrong': 983, 'okay': 606, 'felt': 305, 'like': 500, 'inside': 441, 'start': 806, 'war': 930, 'pay': 622, 'shit': 773, 'fly': 318, 'home': 411, 'perfect': 628, 'warning': 931, 'services': 766, 'area': 77, 'trump': 883, 'putin': 664, 'called': 144, 'question': 666, 'long': 521, 'term': 845, 'russian': 735, 'man': 543, 'don': 245, 'know': 477, 'love': 533, 'woman': 964, 'ain': 63, 'real': 676, 'friends': 332, 'rt don': 706, 'don know': 247, 'life': 499, 'twitter': 896, 'making': 542, 'talking': 838, 'thing': 852, 'does': 241, 'wait': 922, 'meet': 551, 'greece': 365, 'fires': 314, 'live': 513, '60': 35, 'dead': 213, '150': 11, 'injured': 439, 'worst': 976, 'wildfires': 951, 'decade': 223, 'athens': 87, 'rt greece': 710, 'worst wildfires': 977, 'wildfires decade': 954, 'realize': 678, 'everyday': 276, 'quite': 668, 'lot': 530, 'people': 624, 'doing': 244, 'listen': 509, 'facts': 289, 'right': 696, 'kim': 472, 'possible': 648, '16': 12, 'deserve': 229, 'just': 462, 'event': 274, 'kind': 473, 'leadership': 489, 'high': 405, 'school': 749, 'years': 991, 'family': 293, 'time': 860, 'growing': 372, 'opening': 611, 'weekend': 942, 'update': 904, '50': 30, 'died': 236, 'region': 684, 'greek': 368, 'rt update': 728, '50 people': 33, 'people died': 626, 'injured wildfires': 440, 'using': 909, 'money': 566, 'terrible': 846, 'yeah': 988, 'rt 50': 701, 'dead greece': 214, 'killed': 467, 'close': 172, 'matter': 546, 'good': 359, 'look': 522, 'work': 970, 'damn': 206, 'bitch': 122, 'ugly': 899, 'funny': 338, 'got': 361, 'ya': 986, 'crying': 199, 'today': 865, 'level': 497, 'isn': 446, 'scared': 746, 'play': 639, 'game': 340, 'literally': 511, 'secret': 754, 'hate': 389, 'guess': 374, 'care': 148, 'seen': 757, 'new': 588, 'greece wildfires': 366, 'images': 432, 'fake': 290, '10': 3, 'music': 576, 'class': 169, 'took': 871, 'voice': 917, 'oh': 603, 'morning': 571, 'retweet': 693, 'wish': 962, 'doesn': 242, 'color': 175, 'things': 853, '00': 0, 'wind': 961, 'rain': 671, 'fine': 312, 'weather': 938, 'president': 657, 'gonna': 358, 'fun': 337, 'im': 431, 'strong': 818, 'friend': 331, 'try': 887, 'everybody': 275, 'going': 356, 'cares': 149, 'set': 767, 'children': 163, 'parents': 618, 'missed': 560, 'second': 753, 'july': 460, 'shut': 778, 'come': 177, 'spreading': 801, 'wildfire': 948, 'need': 584, 'help': 402, 'asked': 84, 'let': 496, 'forget': 325, 'day': 211, 'amp': 70, 'follow': 319, 'followers': 320, 'pictures': 636, 'needs': 586, 'rt new': 722, 'fr': 328, 'started': 807, 'youtube': 998, 'watch': 933, '15': 10, 'facebook': 287, 'tips': 862, 'free': 329, 'click': 170, 'choose': 165, 'government': 363, 'reality': 677, 'immigration': 434, 'history': 407, 'wouldn': 979, 'did': 233, 'actual': 49, 'hope': 414, 'gets': 344, 'car': 146, 'wants': 929, 'hey': 403, 'll': 516, 'playing': 640, 'different': 237, 'including': 436, 'rt hey': 715, 'pray': 653, 'eyes': 285, 'heart': 398, 'order': 613, 'best': 113, 'fortnite': 326, 'link': 507, 'double': 249, 'https': 420, 'comes': 179, 'battle': 103, 'post': 649, 'god': 354, 'change': 157, 'drink': 253, 'remember': 687, 'sleep': 788, 'stay': 811, 'needed': 585, 'dm': 240, 'album': 65, 'feel': 303, 'ok': 605, 'comments': 182, 'stories': 814, 'special': 799, 'stuff': 822, 'end': 266, 'thanks': 850, 'idea': 428, 'trying': 888, 'person': 630, 'didn': 234, 'make': 540, 'kill': 465, 'imagine': 433, 'police': 645, 'id': 427, 'card': 147, 'bro': 135, 'united': 903, 'states': 810, 'america': 68, 'russia': 734, 'thoughts': 858, 'prayers': 654, 'dance': 207, 'happy': 386, 'birthday': 120, 'happy birthday': 387, 'looks': 525, 'says': 745, 'yall': 987, 'tell': 844, 'currently': 201, 'fav': 300, 'lol': 520, 'tv': 893, 'news': 589, '11': 6, 'girl': 346, 'beautiful': 110, 'county': 195, 'vote': 918, '07': 2, '2nd': 25, 'place': 637, 'voting': 920, 'number': 598, 'zero': 999, 'families': 292, 'power': 651, 'forever': 324, 'saying': 744, 'eat': 262, 'won': 966, 'soon': 796, 'likes': 504, 'maybe': 547, 'crazy': 198, 'read': 673, 'anymore': 73, 'welcome': 943, 'world': 974, 've': 911, 'great': 364, 'health': 393, 'mtvhottest': 575, 'woke': 963, 'lord': 526, 'ma': 537, 'com': 176, 'boys': 131, 'bring': 134, 'bc': 107, 'seeing': 756, 'lately': 484, 'bbc': 105, 'ex': 277, 'street': 817, 'bbc news': 106, 'thank': 849, 'week': 941, 'say': 743, 'leaders': 488, 'page': 615, 'media': 550, 'getting': 345, 'hot': 415, 'rt know': 718, 'international': 444, 'fans': 295, 'face': 286, 'catch': 152, 'case': 150, 'pussy': 663, 'caught': 153, 'body': 127, 'leave': 493, 'heard': 396, 'safe': 739, 'stage': 804, 'hurt': 425, 'dick': 232, '2018': 18, 'cover': 197, 'city': 167, 'definitely': 226, 'looking': 524, 'forward': 327, 'episode': 271, 'big': 117, 'baby': 99, '12': 7, 'times': 861, 'aren': 79, 'actually': 50, 'happened': 383, 'sent': 761, 'sir': 783, 'thinking': 855, 'congrats': 186, 'nice': 590, 'rt ve': 729, 'lmao': 517, 'black': 124, 'guy': 376, 'pretty': 659, 'resort': 691, 'town': 873, 'east': 260, 'fan': 294, 'flames': 315, 'massive': 544, 'idk': 430, 'goes': 355, 'sorry': 797, 'future': 339, 'dozens': 250, 'deadliest': 216, 'wildfires kill': 956, 'girls': 347, 'park': 619, 'omg': 608, 'share': 770, 'note': 595, 'told': 866, 'working': 972, 'lie': 498, 'truth': 886, 'goal': 353, '20': 14, 'old': 607, 'age': 59, 'build': 139, 'works': 973, 'continues': 189, 'believe': 112, 'late': 483, 'think': 854, 'better': 115, 'open': 610, 'state': 809, 'single': 782, 'friday': 330, 'tweet': 894, 'dear': 220, 'fbi': 302, 'rt dear': 704, 'thought': 857, 'came': 145, 'trust': 884, 'article': 82, 'mention': 553, 'stop': 812, 'beach': 109, 'california': 143, 'amazing': 67, 'support': 829, 'use': 907, 'air': 64, 'country': 194, 'valley': 910, 'hear': 395, 'twt': 897, 'moon': 570, 'guys': 377, 'account': 45, 'straight': 816, 'test': 847, 'awesome': 97, 'join': 459, 'ht': 419, 'moment': 564, 'mom': 563, 'gives': 350, '2017': 17, 'gave': 342, 'way': 936, 'pre': 656, 'pls': 642, 'said': 740, 'jimin': 457, 'takes': 835, 'pics': 635, 'ready': 675, 'dont': 248, 'administration': 54, 'billion': 119, 'tariffs': 839, 'series': 763, 'left': 495, 'gun': 375, 'learning': 492, 'thread': 859, 'minutes': 558, 'chance': 156, 'die': 235, 'instagram': 442, 'water': 935, 'fighting': 309, 'retweets': 694, 'loved': 534, 'rt end': 707, 'knowing': 478, 'yes': 993, 'vs': 921, 'culture': 200, 'sad': 738, 'excited': 279, 'latest': 486, 'shop': 774, 'style': 823, 'tonight': 870, 'haven': 390, 'ryan': 736, 'want': 927, 'miss': 559, 'sure': 831, 'ppl': 652, 'residents': 690, 'super': 828, 'continue': 188, 'report': 688, 'cause': 154, 'bts': 138, 'learn': 491, 'appreciate': 74, 'makes': 541, 'demi': 227, 'lovato': 532, 'demi lovato': 228, 'daily': 205, 'near': 582, 'near athens': 583, 'athens families': 88, 'added': 52, 'wonderful': 967, 'young': 997, 'rt happy': 712, 'story': 815, 'yesterday': 994, 'gone': 357, 'gorgeous': 360, 'job': 458, 'year': 989, 'wasn': 932, 'ass': 86, 'enjoy': 268, '99': 41, 'digital': 238, 'ask': 83, 'given': 349, 'wtf': 984, 'fucked': 335, 'tho': 856, 'oh god': 604, 'house': 418, 'security': 755, 'rt just': 717, 'breaking': 133, 'death': 221, 'toll': 867, 'rises': 697, '74': 38, 'firefighters': 313, 'rt breaking': 703, 'death toll': 222, 'tax': 840, 'self': 758, 'important': 435, 'film': 310, 'alive': 66, '74 dead': 39, 'greek wildfires': 370, 'holiday': 410, 'killing': 470, '24': 21, 'early': 259, 'tuesday': 889, 'draw': 252, 'art': 81, 'burning': 140, 'king': 474, 'kids': 464, 'outside': 614, 'sa': 737, 'songs': 795, 'used': 908, 'hair': 380, 'exactly': 278, 'understanding': 902, 'victims': 913, 'greek wildfire': 369, 'wearing': 937, 'obama': 599, 'able': 42, 'iran': 445, 'fact': 288, 'completely': 184, 'days': 212, 'gay': 343, 'smile': 790, 'past': 621, 'lock': 519, 'september': 762, 'group': 371, 'white': 946, 'proud': 662, 'showing': 776, 'personal': 631, 'website': 939, 'israel': 447, 'offer': 600, 'send': 759, 'wildfires near': 958, '100': 4, 'kills': 471, 'bad': 100, 'happen': 382, 'control': 190, 'yo': 995, 'mood': 569, 'key': 463, 'sea': 751, '25': 23, 'happens': 384, 'sending': 760, 'raise': 672, 'service': 765, 'bcwildfire': 108, 'north': 594, 'social': 792, 'sick': 779, 'rt today': 727, 'wildfires greece': 955, 'season': 752, 'th': 848, '23': 20, 'tour': 872, 'women': 965, 'nude': 597, 'sexy': 769, 'having': 391, 'sex': 768, 'videos': 915, 'battling': 104, 'deadly': 217, 'deadly wildfires': 218, 'announce': 71, 'happiness': 385, 'favorite': 301, 'hundreds': 424, 'lucky': 536, 'period': 629, 'entire': 270, 'fast': 298, 'moving': 574, 'wildfires killed': 957, 'killed 74': 468, '74 people': 40, 'smoke': 791, 'rage': 669, 'athens greece': 89, 'wildfires rage': 959, 'boobs': 128, 'adult': 55, 'porn': 647, 'st': 802, 'dude': 256, 'social media': 793, 'netflix': 587, 'version': 912, 'human': 423, 'line': 506, 'look like': 523, 'em': 264, 'claims': 168, '22': 19, 'rt did': 705, 'cute': 203, 'data': 208, 'highest': 406, 'night': 592, 'nation': 579, 'rt want': 730, 'write': 981, 'sign': 780, '20 dead': 15, 'areas': 78, 'emergency': 265, 'men': 552, 'glad': 351, 'dad': 204, 'sharing': 771, 'china': 164, 'wildfire near': 950, 'word': 968, 'lil': 505, 'bit': 121, 'rt people': 723, 'attica': 92, 'rt wildfires': 731, '60 people': 36, 'attica region': 93, 'rt great': 709, 'rt follow': 708, 'talk': 837, 'coming': 180, 'waiting': 923, 'ha': 378, 'minister': 557, 'japan': 452, 'hard': 388, 'decided': 224, 'hello': 401, 'india': 437, 'energy': 267, 'non': 593, 'hearing': 397, 'understand': 901, 'army': 80, 'absolutely': 43, 'phone': 632, 'national': 580, 'hold': 409, 'site': 785, 'south': 798, '18': 13, 'climate': 171, 'release': 686, 'sky': 787, '30': 26, 'red': 683, 'fucking': 336, 'force': 323, 'flee': 317, 'dead wildfires': 215, 'pain': 617, 'went': 944, 'song': 794, 'tweets': 895, 'win': 960, 'heat': 399, 'book': 129, 'indian': 438, 'hell': 400, 'voted': 919, 'declared': 225, 'disaster': 239, 'rt look': 719, 'bodies': 126, 'changes': 158, 'taking': 836, 'photo': 633, 'shows': 777, 'little': 512, 'action': 47, 'prayfordemi': 655, 'official': 601, 'people killed': 627, 'killed wildfires': 469, 'uk': 900, 'rt rt': 725, 'comment': 181, 'west': 945, 'boy': 130, 'law': 487, 'president trump': 658, 'run': 732, 'sit': 784, 'bed': 111, 'point': 644, 'mourning': 572, 'rt greek': 711, 'answer': 72, 'community': 183, 'chief': 161, 'million': 555, 'honestly': 413, 'nigga': 591, 'visit': 916, 'local': 518, 'wife': 947, 'wow': 980, 'party': 620, 'mad': 538, 'thats': 851, 'deal': 219, 'child': 162, 'tears': 843, 'save': 741, 'gt': 373, 'arctic': 75, 'circle': 166, 'sweden': 833, 'arctic circle': 76, 'reports': 689, 'expected': 281, 'spread': 800, 'issues': 448, 'recorded': 682, '50 killed': 32, '100 injured': 5, 'following': 321, 'types': 898, 'worth': 978, 'risk': 698, 'experience': 282, 'styles': 824, 'available': 95, 'rt heart': 714, 'knew': 476, 'homes': 412, 'addiction': 53, 'lady': 480, 'far': 296, 'actions': 48, 'supposed': 830, 'fight': 308, 'cat': 151, 'problem': 661, 'seriously': 764, 'ago': 60, 'running': 733, 'middle': 554, 'room': 699, 'photos': 634, 'fuck': 334, 'athens wildfires': 90, 'months': 568, 'comeback': 178, 'raging': 670, 'hour': 416, 'sing': 781, 'shirt': 772, 'confirmed': 185, 'xxx': 985, 'babe': 98, 'rt make': 721, 'years ago': 992, 'bank': 101, 'record': 681, 'hit': 408, 'hours': 417, 'global': 352, 'peace': 623, 'mind': 556, 'true': 880, 'biggest': 118, 'healthcare': 394, 'away': 96, 'according': 44, 'eu': 272, 'head': 392, 'ur': 905, 'tits': 864, 'tired': 863, 'nowplaying': 596, 'extra': 284, 'father': 299, 'lost': 529, 'business': 141, 'asking': 85, 'se': 750, 'feeling': 304, 'broke': 136, 'tragedy': 875, '50 dead': 31, 'food': 322, 'design': 230, 'japanese': 453, 'interesting': 443, 'american': 69, 'living': 515, 'tried': 879, 'mati': 545, 'turned': 892, 'truly': 882, 'jazz': 454, 'sun': 827, 'daughter': 210, 'customer': 202, 'student': 821, 'led': 494, 'europe': 273, '000': 1, 'huge': 422, 'small': 789, 'act': 46, 'don believe': 246, 'towns': 874, 'lives': 514, 'rich': 695, '70': 37, 'ah': 62, 'centre': 155, 'tomorrow': 869, 'rt im': 716, 'officials': 602, 'closed': 173, '26': 24, 'finally': 311, 'political': 646, 'liked': 502, 'liked video': 503, 'team': 842, 'train': 877, 'people dead': 625, 'rt hate': 713, 'cost': 193, 'plays': 641, 'festival': 307, 'scenes': 748, 'summer': 826, 'online': 609, 'large': 481, 'advice': 56, 'couple': 196, 'shot': 775, 'tune': 890, 'chat': 159, 'dr': 251, 'questions': 667, 'paid': 616, '20 people': 16, 'worse': 975, 'reading': 674, 'july 24': 461, '24 2018': 22, 'huddled': 421, 'easy': 261, 'rt best': 702, 'struck': 819, 'flamethrower': 316, 'struck like': 820, 'like flamethrower': 501, 'giveaway': 348, 'august': 94, 'missing': 561, '14': 9, 'yosemite': 996, 'haha': 379, 'exo': 280, 'farmers': 297, 'naked': 578, 'scene': 747, 'staff': 803, '49': 29, 'rt love': 720, 'cool': 192, 'list': 508, 'rt thoughts': 726, 'year old': 990, 'later': 485, 'relationship': 685, 'bitcoin': 123, 'ivanka': 451, 'stand': 805, 'add': 51, 'dating': 209, 'drop': 255, 'dog': 243, 'movie': 573, 'wanted': 928, 'toll wildfires': 868, 'saw': 742, 'written': 982, 'largest': 482, 'biblical': 116, 'month': 567, 'wildfire kills': 949, 'plan': 638, 'taken': 834, 'devastating': 231, 'female': 306, 'election': 263, 'posts': 650, 'break': 132, 'surprised': 832, 'tragic': 876, 'opinion': 612, 'sucks': 825, 'ft': 333, 'league': 490, '3rd': 28, 'buy': 142, 'watching': 934, 'true true': 881, 'games': 341, 'starting': 808, 'monday': 565, 'lose': 527, 'rt really': 724, 'mix': 562, 'store': 813, 'walk': 925, 'na': 577, 'hi': 404, 'bet': 114, 'closer': 174, 'travel': 878, 'affected': 57, 'affected wildfires': 58, 'wildfires athens': 952, 'conversation': 191, 'greecefires': 367, 'explain': 283, 'idiot': 429, 'agree': 61, 'rest': 692, 'lots': 531, 'situation': 786, 'listening': 510, 'hand': 381, 'usa': 906, 'gotta': 362, 'maga': 539, 'tbh': 841, 'turn': 891, 'enjoying': 269, '13': 8, 'reason': 680, 'wake': 924, '31': 27, 'wedding': 940, 'ich': 426, 'pm': 643, '500': 34, 'ji': 456, 'fall': 291, 'nct': 581, 'kiss': 475, 'probably': 660, 'dumb': 257, 'low': 535, 'loss': 528, 'wildfires attica': 953, 'knows': 479, 'words': 969, 'queen': 665, 'workers': 971, 'itchy': 449, 'itchy ich': 450, 'blue': 125, 'meant': 549, 'drive': 254, 'dying': 258, 'based': 102, 'contact': 187, 'kill 74': 466, 'attention': 91, 'trust issues': 885, 'jennie': 455}\n"
     ]
    }
   ],
   "source": [
    "print(tvec.vocabulary_)"
   ]
  },
  {
   "cell_type": "code",
   "execution_count": 27,
   "metadata": {},
   "outputs": [],
   "source": [
    "X_train_tvec = tvec.transform(X_train)"
   ]
  },
  {
   "cell_type": "code",
   "execution_count": 146,
   "metadata": {},
   "outputs": [],
   "source": [
    "X_test_tvec = tvec.transform(X_test)"
   ]
  },
  {
   "cell_type": "code",
   "execution_count": 147,
   "metadata": {},
   "outputs": [],
   "source": [
    "t_train = pd.DataFrame(X_train_tvec.toarray(),\n",
    "                        columns=cvec.get_feature_names())"
   ]
  },
  {
   "cell_type": "code",
   "execution_count": 148,
   "metadata": {
    "scrolled": false
   },
   "outputs": [],
   "source": [
    "t_test = pd.DataFrame(X_test_tvec.toarray(),\n",
    "                        columns=cvec.get_feature_names())"
   ]
  },
  {
   "cell_type": "code",
   "execution_count": 149,
   "metadata": {
    "scrolled": true
   },
   "outputs": [
    {
     "data": {
      "image/png": "[encoded data removed]",
      "text/plain": [
       "<Figure size 432x288 with 1 Axes>"
      ]
     },
     "metadata": {
      "needs_background": "light"
     },
     "output_type": "display_data"
    }
   ],
   "source": [
    "t_train.sum().sort_values().tail(10).plot(kind = 'barh');\n",
    "plt.title(\"MOST FREQUENT WORDS IN T-TRAIN SET\");"
   ]
  },
  {
   "cell_type": "code",
   "execution_count": 150,
   "metadata": {
    "scrolled": false
   },
   "outputs": [
    {
     "data": {
      "image/png": "[encoded data removed]",
      "text/plain": [
       "<Figure size 432x288 with 1 Axes>"
      ]
     },
     "metadata": {
      "needs_background": "light"
     },
     "output_type": "display_data"
    }
   ],
   "source": [
    "t_test.sum().sort_values().head(10).plot(kind='barh');\n",
    "plt.title(\"LEAST FREQUENT WORDS IN T-TEST SET\");"
   ]
  },
  {
   "cell_type": "markdown",
   "metadata": {},
   "source": [
    "#### INSTANTIATE MULTINOMIAL NAIVE BAYES MODEL WITH TFIDF"
   ]
  },
  {
   "cell_type": "code",
   "execution_count": 151,
   "metadata": {},
   "outputs": [],
   "source": [
    "model= MultinomialNB()"
   ]
  },
  {
   "cell_type": "code",
   "execution_count": 152,
   "metadata": {},
   "outputs": [],
   "source": [
    "model.fit(X_train_tvec, y_train);"
   ]
  },
  {
   "cell_type": "code",
   "execution_count": 153,
   "metadata": {},
   "outputs": [],
   "source": [
    "preds = model.predict(X_test_tvec)"
   ]
  },
  {
   "cell_type": "code",
   "execution_count": 154,
   "metadata": {},
   "outputs": [
    {
     "data": {
      "text/plain": [
       "0.9839743589743589"
      ]
     },
     "execution_count": 154,
     "metadata": {},
     "output_type": "execute_result"
    }
   ],
   "source": [
    "#provides us with the accuracy score\n",
    "model.score(X_test_tvec,y_test)"
   ]
  },
  {
   "cell_type": "code",
   "execution_count": 155,
   "metadata": {},
   "outputs": [
    {
     "data": {
      "text/plain": [
       "array([[1979,    2],\n",
       "       [  33,  170]], dtype=int64)"
      ]
     },
     "execution_count": 155,
     "metadata": {},
     "output_type": "execute_result"
    }
   ],
   "source": [
    "confusion_matrix(y_test, \n",
    "                 preds) "
   ]
  },
  {
   "cell_type": "code",
   "execution_count": 156,
   "metadata": {},
   "outputs": [],
   "source": [
    "tn, fp, fn, tp = confusion_matrix(y_test, preds).ravel()"
   ]
  },
  {
   "cell_type": "code",
   "execution_count": null,
   "metadata": {},
   "outputs": [],
   "source": []
  },
  {
   "cell_type": "code",
   "execution_count": null,
   "metadata": {},
   "outputs": [],
   "source": []
  },
  {
   "cell_type": "code",
   "execution_count": null,
   "metadata": {},
   "outputs": [],
   "source": []
  }
 ],
 "metadata": {
  "kernelspec": {
   "display_name": "Python 3",
   "language": "python",
   "name": "python3"
  },
  "language_info": {
   "codemirror_mode": {
    "name": "ipython",
    "version": 3
   },
   "file_extension": ".py",
   "mimetype": "text/x-python",
   "name": "python",
   "nbconvert_exporter": "python",
   "pygments_lexer": "ipython3",
   "version": "3.7.4"
  }
 },
 "nbformat": 4,
 "nbformat_minor": 2
}
