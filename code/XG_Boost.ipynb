{
 "cells": [
  {
   "cell_type": "code",
   "execution_count": 1,
   "metadata": {},
   "outputs": [],
   "source": [
    "import pandas as pd\n",
    "import numpy as np\n",
    "from sklearn.feature_extraction.text import CountVectorizer, TfidfVectorizer\n",
    "\n",
    "from sklearn.ensemble import RandomForestClassifier\n",
    "from xgboost import XGBClassifier\n",
    "\n",
    "from sklearn.pipeline import Pipeline\n",
    "from sklearn.model_selection import GridSearchCV, cross_val_score, train_test_split\n",
    "\n",
    "from sklearn.metrics import confusion_matrix\n",
    "import shap"
   ]
  },
  {
   "cell_type": "code",
   "execution_count": 5,
   "metadata": {},
   "outputs": [
    {
     "data": {
      "text/html": [
       "<div>\n",
       "<style scoped>\n",
       "    .dataframe tbody tr th:only-of-type {\n",
       "        vertical-align: middle;\n",
       "    }\n",
       "\n",
       "    .dataframe tbody tr th {\n",
       "        vertical-align: top;\n",
       "    }\n",
       "\n",
       "    .dataframe thead th {\n",
       "        text-align: right;\n",
       "    }\n",
       "</style>\n",
       "<table border=\"1\" class=\"dataframe\">\n",
       "  <thead>\n",
       "    <tr style=\"text-align: right;\">\n",
       "      <th></th>\n",
       "      <th>Unnamed: 0</th>\n",
       "      <th>created_at</th>\n",
       "      <th>text_clean</th>\n",
       "      <th>label</th>\n",
       "    </tr>\n",
       "  </thead>\n",
       "  <tbody>\n",
       "    <tr>\n",
       "      <td>0</td>\n",
       "      <td>0</td>\n",
       "      <td>2018-07-23 14:42:01</td>\n",
       "      <td>There are ways for Colorado residents to stret...</td>\n",
       "      <td>1</td>\n",
       "    </tr>\n",
       "    <tr>\n",
       "      <td>1</td>\n",
       "      <td>1</td>\n",
       "      <td>2018-07-23 14:20:16</td>\n",
       "      <td>RT Residents flee wildfire raging west of Athens</td>\n",
       "      <td>1</td>\n",
       "    </tr>\n",
       "    <tr>\n",
       "      <td>2</td>\n",
       "      <td>2</td>\n",
       "      <td>2018-07-23 14:08:16</td>\n",
       "      <td>Canada B C s Okanagan braces for more wildfires</td>\n",
       "      <td>1</td>\n",
       "    </tr>\n",
       "    <tr>\n",
       "      <td>3</td>\n",
       "      <td>3</td>\n",
       "      <td>2018-07-23 14:11:44</td>\n",
       "      <td>Evacuation orders as Ontario s wildfires keep ...</td>\n",
       "      <td>1</td>\n",
       "    </tr>\n",
       "    <tr>\n",
       "      <td>4</td>\n",
       "      <td>4</td>\n",
       "      <td>2018-07-23 08:21:09</td>\n",
       "      <td>RT How rewildling can prevent wildfires</td>\n",
       "      <td>1</td>\n",
       "    </tr>\n",
       "  </tbody>\n",
       "</table>\n",
       "</div>"
      ],
      "text/plain": [
       "   Unnamed: 0           created_at  \\\n",
       "0           0  2018-07-23 14:42:01   \n",
       "1           1  2018-07-23 14:20:16   \n",
       "2           2  2018-07-23 14:08:16   \n",
       "3           3  2018-07-23 14:11:44   \n",
       "4           4  2018-07-23 08:21:09   \n",
       "\n",
       "                                          text_clean  label  \n",
       "0  There are ways for Colorado residents to stret...      1  \n",
       "1   RT Residents flee wildfire raging west of Athens      1  \n",
       "2    Canada B C s Okanagan braces for more wildfires      1  \n",
       "3  Evacuation orders as Ontario s wildfires keep ...      1  \n",
       "4            RT How rewildling can prevent wildfires      1  "
      ]
     },
     "execution_count": 5,
     "metadata": {},
     "output_type": "execute_result"
    }
   ],
   "source": [
    "# Load the training set data\n",
    "df = pd.read_csv('Training_set_withtime.csv')\n",
    "df.head()"
   ]
  },
  {
   "cell_type": "code",
   "execution_count": 6,
   "metadata": {},
   "outputs": [],
   "source": [
    "df.drop(columns='Unnamed: 0',inplace=True)"
   ]
  },
  {
   "cell_type": "code",
   "execution_count": 7,
   "metadata": {},
   "outputs": [],
   "source": [
    "X = df['text_clean']\n",
    "y = df['label']"
   ]
  },
  {
   "cell_type": "code",
   "execution_count": 8,
   "metadata": {},
   "outputs": [
    {
     "data": {
      "text/plain": [
       "(6616,)"
      ]
     },
     "execution_count": 8,
     "metadata": {},
     "output_type": "execute_result"
    }
   ],
   "source": [
    "X.shape"
   ]
  },
  {
   "cell_type": "code",
   "execution_count": 4,
   "metadata": {},
   "outputs": [
    {
     "data": {
      "text/html": [
       "<div>\n",
       "<style scoped>\n",
       "    .dataframe tbody tr th:only-of-type {\n",
       "        vertical-align: middle;\n",
       "    }\n",
       "\n",
       "    .dataframe tbody tr th {\n",
       "        vertical-align: top;\n",
       "    }\n",
       "\n",
       "    .dataframe thead th {\n",
       "        text-align: right;\n",
       "    }\n",
       "</style>\n",
       "<table border=\"1\" class=\"dataframe\">\n",
       "  <thead>\n",
       "    <tr style=\"text-align: right;\">\n",
       "      <th></th>\n",
       "      <th>date</th>\n",
       "      <th>text_clean</th>\n",
       "      <th>label</th>\n",
       "    </tr>\n",
       "  </thead>\n",
       "  <tbody>\n",
       "    <tr>\n",
       "      <td>0</td>\n",
       "      <td>2019-02-03 09:00:00+00:00</td>\n",
       "      <td>Btw jgh</td>\n",
       "      <td>0</td>\n",
       "    </tr>\n",
       "    <tr>\n",
       "      <td>1</td>\n",
       "      <td>2019-02-03 09:00:00+00:00</td>\n",
       "      <td>New Words amp Pictures out today Follow this l...</td>\n",
       "      <td>0</td>\n",
       "    </tr>\n",
       "    <tr>\n",
       "      <td>2</td>\n",
       "      <td>2019-02-03 09:00:00+00:00</td>\n",
       "      <td>Weekends are made for adventures We take a fin...</td>\n",
       "      <td>0</td>\n",
       "    </tr>\n",
       "    <tr>\n",
       "      <td>3</td>\n",
       "      <td>2019-02-03 09:00:00+00:00</td>\n",
       "      <td>China s surge in global university rankings ha...</td>\n",
       "      <td>0</td>\n",
       "    </tr>\n",
       "    <tr>\n",
       "      <td>4</td>\n",
       "      <td>2019-02-03 09:00:00+00:00</td>\n",
       "      <td>4 2 days until LIGHTS OUT in Australia Six wee...</td>\n",
       "      <td>0</td>\n",
       "    </tr>\n",
       "  </tbody>\n",
       "</table>\n",
       "</div>"
      ],
      "text/plain": [
       "                        date  \\\n",
       "0  2019-02-03 09:00:00+00:00   \n",
       "1  2019-02-03 09:00:00+00:00   \n",
       "2  2019-02-03 09:00:00+00:00   \n",
       "3  2019-02-03 09:00:00+00:00   \n",
       "4  2019-02-03 09:00:00+00:00   \n",
       "\n",
       "                                          text_clean  label  \n",
       "0                                            Btw jgh      0  \n",
       "1  New Words amp Pictures out today Follow this l...      0  \n",
       "2  Weekends are made for adventures We take a fin...      0  \n",
       "3  China s surge in global university rankings ha...      0  \n",
       "4  4 2 days until LIGHTS OUT in Australia Six wee...      0  "
      ]
     },
     "execution_count": 4,
     "metadata": {},
     "output_type": "execute_result"
    }
   ],
   "source": [
    "# Load the test set\n",
    "df_test = pd.read_csv('test_data_Feb3rd_2019.csv')\n",
    "#df_test.drop(columns='Unnamed: 0',inplace =True)\n",
    "df_test.head()"
   ]
  },
  {
   "cell_type": "code",
   "execution_count": 9,
   "metadata": {},
   "outputs": [
    {
     "data": {
      "text/plain": [
       "(173915,)"
      ]
     },
     "execution_count": 9,
     "metadata": {},
     "output_type": "execute_result"
    }
   ],
   "source": [
    "X_test = df_test['text_clean']\n",
    "y_test = df_test['label']\n",
    "X_test.shape"
   ]
  },
  {
   "cell_type": "markdown",
   "metadata": {},
   "source": [
    "## Use CountVectorizer"
   ]
  },
  {
   "cell_type": "code",
   "execution_count": 11,
   "metadata": {},
   "outputs": [],
   "source": [
    "# Put some location name into the stop words to get rid of the effect \n",
    "from sklearn.feature_extraction import text \n",
    "stop_words_new = text.ENGLISH_STOP_WORDS.union({'greece', 'athens', 'greek'})"
   ]
  },
  {
   "cell_type": "code",
   "execution_count": 12,
   "metadata": {},
   "outputs": [],
   "source": [
    "# Instiantiate the CountVectorizer, fit and transform X\n",
    "cvec_new = CountVectorizer(stop_words = stop_words_new, max_features=200)\n",
    "X_cvec_new = cvec_new.fit_transform(X)"
   ]
  },
  {
   "cell_type": "code",
   "execution_count": 13,
   "metadata": {},
   "outputs": [],
   "source": [
    "# Transform the test set\n",
    "X_cvec_test = cvec_new.transform(X_test.values.astype('U'))"
   ]
  },
  {
   "cell_type": "code",
   "execution_count": 14,
   "metadata": {},
   "outputs": [
    {
     "data": {
      "text/plain": [
       "XGBClassifier(base_score=0.5, booster='gbtree', colsample_bylevel=1,\n",
       "              colsample_bynode=1, colsample_bytree=1, gamma=0,\n",
       "              learning_rate=0.08, max_delta_step=0, max_depth=2,\n",
       "              min_child_weight=1, missing=None, n_estimators=100, n_jobs=1,\n",
       "              nthread=None, objective='binary:logistic', random_state=0,\n",
       "              reg_alpha=0, reg_lambda=1, scale_pos_weight=1, seed=None,\n",
       "              silent=None, subsample=1, verbosity=1)"
      ]
     },
     "execution_count": 14,
     "metadata": {},
     "output_type": "execute_result"
    }
   ],
   "source": [
    "# after GridSearch the best parameter for XGBClassifier is 'learning_rate': 0.08, 'max_depth': 2, 'n_estimators': 100\n",
    "xgb_cvec_new =XGBClassifier(learning_rate=0.08, max_depth= 2)\n",
    "xgb_cvec_new.fit(X_cvec_new, y)"
   ]
  },
  {
   "cell_type": "code",
   "execution_count": 15,
   "metadata": {},
   "outputs": [],
   "source": [
    "# Generate the predictions of test set\n",
    "y_preds_test = xgb_cvec_new.predict(X_cvec_test)"
   ]
  },
  {
   "cell_type": "code",
   "execution_count": 16,
   "metadata": {},
   "outputs": [
    {
     "data": {
      "text/plain": [
       "6"
      ]
     },
     "execution_count": 16,
     "metadata": {},
     "output_type": "execute_result"
    }
   ],
   "source": [
    "np.count_nonzero(y_preds_test == 1)"
   ]
  },
  {
   "cell_type": "code",
   "execution_count": 17,
   "metadata": {},
   "outputs": [
    {
     "data": {
      "text/plain": [
       "0.996826423390359"
      ]
     },
     "execution_count": 17,
     "metadata": {},
     "output_type": "execute_result"
    }
   ],
   "source": [
    "# Use cross valadation calculate the accuracy of training set\n",
    "cross_val_score(xgb_cvec_new, X_cvec_new, y, cv=10).mean()"
   ]
  },
  {
   "cell_type": "code",
   "execution_count": 18,
   "metadata": {},
   "outputs": [
    {
     "name": "stdout",
     "output_type": "stream",
     "text": [
      "The accuracy of training with more stop words is 0.997\n"
     ]
    }
   ],
   "source": [
    "print(f'The accuracy of training with more stop words is {round(xgb_cvec_new.score(X_cvec_new, y),3)}')"
   ]
  },
  {
   "cell_type": "code",
   "execution_count": 22,
   "metadata": {},
   "outputs": [
    {
     "name": "stdout",
     "output_type": "stream",
     "text": [
      "[[6000    0]\n",
      " [  21  595]]\n",
      "******************************\n",
      "Ture Negative 6000\n",
      " Flase Negative 21\n",
      " True Positive 595 \n",
      " False Positive 0\n"
     ]
    }
   ],
   "source": [
    "# The metrics of train set\n",
    "y_preds = xgb_cvec_new.predict(X_cvec_new)\n",
    "print(confusion_matrix(y, y_preds))\n",
    "print('*'*30)\n",
    "[[tn, fp],[fn, tp] ]= confusion_matrix(y, y_preds)\n",
    "print(f'Ture Negative {tn}\\n Flase Negative {fn}\\n True Positive {tp} \\n False Positive {fp}')"
   ]
  },
  {
   "cell_type": "code",
   "execution_count": 19,
   "metadata": {},
   "outputs": [
    {
     "name": "stdout",
     "output_type": "stream",
     "text": [
      "[[173909      0]\n",
      " [     0      6]]\n",
      "******************************\n",
      "Ture Negative 173909\n",
      " Flase Negative 0\n",
      " True Positive 6 \n",
      " False Positive 0\n"
     ]
    }
   ],
   "source": [
    "# The metrics of test set\n",
    "y_preds_test = xgb_cvec_new.predict(X_cvec_test)\n",
    "print(confusion_matrix(y_test, y_preds_test))\n",
    "print('*'*30)\n",
    "[[tn, fp],[fn, tp] ]= confusion_matrix(y_test, y_preds_test)\n",
    "print(f'Ture Negative {tn}\\n Flase Negative {fn}\\n True Positive {tp} \\n False Positive {fp}')"
   ]
  },
  {
   "cell_type": "code",
   "execution_count": 20,
   "metadata": {},
   "outputs": [
    {
     "data": {
      "text/html": [
       "<div>\n",
       "<style scoped>\n",
       "    .dataframe tbody tr th:only-of-type {\n",
       "        vertical-align: middle;\n",
       "    }\n",
       "\n",
       "    .dataframe tbody tr th {\n",
       "        vertical-align: top;\n",
       "    }\n",
       "\n",
       "    .dataframe thead th {\n",
       "        text-align: right;\n",
       "    }\n",
       "</style>\n",
       "<table border=\"1\" class=\"dataframe\">\n",
       "  <thead>\n",
       "    <tr style=\"text-align: right;\">\n",
       "      <th></th>\n",
       "      <th>date</th>\n",
       "      <th>text_clean</th>\n",
       "      <th>label</th>\n",
       "      <th>preds</th>\n",
       "    </tr>\n",
       "  </thead>\n",
       "  <tbody>\n",
       "    <tr>\n",
       "      <td>0</td>\n",
       "      <td>2019-02-03 09:00:00+00:00</td>\n",
       "      <td>Btw jgh</td>\n",
       "      <td>0</td>\n",
       "      <td>0</td>\n",
       "    </tr>\n",
       "    <tr>\n",
       "      <td>1</td>\n",
       "      <td>2019-02-03 09:00:00+00:00</td>\n",
       "      <td>New Words amp Pictures out today Follow this l...</td>\n",
       "      <td>0</td>\n",
       "      <td>0</td>\n",
       "    </tr>\n",
       "    <tr>\n",
       "      <td>2</td>\n",
       "      <td>2019-02-03 09:00:00+00:00</td>\n",
       "      <td>Weekends are made for adventures We take a fin...</td>\n",
       "      <td>0</td>\n",
       "      <td>0</td>\n",
       "    </tr>\n",
       "    <tr>\n",
       "      <td>3</td>\n",
       "      <td>2019-02-03 09:00:00+00:00</td>\n",
       "      <td>China s surge in global university rankings ha...</td>\n",
       "      <td>0</td>\n",
       "      <td>0</td>\n",
       "    </tr>\n",
       "    <tr>\n",
       "      <td>4</td>\n",
       "      <td>2019-02-03 09:00:00+00:00</td>\n",
       "      <td>4 2 days until LIGHTS OUT in Australia Six wee...</td>\n",
       "      <td>0</td>\n",
       "      <td>0</td>\n",
       "    </tr>\n",
       "  </tbody>\n",
       "</table>\n",
       "</div>"
      ],
      "text/plain": [
       "                        date  \\\n",
       "0  2019-02-03 09:00:00+00:00   \n",
       "1  2019-02-03 09:00:00+00:00   \n",
       "2  2019-02-03 09:00:00+00:00   \n",
       "3  2019-02-03 09:00:00+00:00   \n",
       "4  2019-02-03 09:00:00+00:00   \n",
       "\n",
       "                                          text_clean  label  preds  \n",
       "0                                            Btw jgh      0      0  \n",
       "1  New Words amp Pictures out today Follow this l...      0      0  \n",
       "2  Weekends are made for adventures We take a fin...      0      0  \n",
       "3  China s surge in global university rankings ha...      0      0  \n",
       "4  4 2 days until LIGHTS OUT in Australia Six wee...      0      0  "
      ]
     },
     "execution_count": 20,
     "metadata": {},
     "output_type": "execute_result"
    }
   ],
   "source": [
    "df_test['preds'] = y_preds_test\n",
    "df_test.head()"
   ]
  },
  {
   "cell_type": "code",
   "execution_count": 21,
   "metadata": {},
   "outputs": [
    {
     "data": {
      "text/plain": [
       "0    173909\n",
       "1         6\n",
       "Name: preds, dtype: int64"
      ]
     },
     "execution_count": 21,
     "metadata": {},
     "output_type": "execute_result"
    }
   ],
   "source": [
    "df_test['preds'].value_counts()"
   ]
  },
  {
   "cell_type": "code",
   "execution_count": 104,
   "metadata": {},
   "outputs": [],
   "source": [
    "df_test.to_csv('test_data_Feb3rd_2019.csv')"
   ]
  },
  {
   "cell_type": "code",
   "execution_count": 19,
   "metadata": {},
   "outputs": [
    {
     "data": {
      "text/html": [
       "<div>\n",
       "<style scoped>\n",
       "    .dataframe tbody tr th:only-of-type {\n",
       "        vertical-align: middle;\n",
       "    }\n",
       "\n",
       "    .dataframe tbody tr th {\n",
       "        vertical-align: top;\n",
       "    }\n",
       "\n",
       "    .dataframe thead th {\n",
       "        text-align: right;\n",
       "    }\n",
       "</style>\n",
       "<table border=\"1\" class=\"dataframe\">\n",
       "  <thead>\n",
       "    <tr style=\"text-align: right;\">\n",
       "      <th></th>\n",
       "      <th>date</th>\n",
       "      <th>text_clean</th>\n",
       "      <th>label</th>\n",
       "      <th>preds</th>\n",
       "    </tr>\n",
       "  </thead>\n",
       "  <tbody>\n",
       "    <tr>\n",
       "      <td>16089</td>\n",
       "      <td>2019-02-03 09:46:50+00:00</td>\n",
       "      <td>sadness crept and spread like a wildfire</td>\n",
       "      <td>1</td>\n",
       "      <td>1</td>\n",
       "    </tr>\n",
       "    <tr>\n",
       "      <td>61221</td>\n",
       "      <td>2019-02-03 11:45:19+00:00</td>\n",
       "      <td>Tri colored Heron birds nature wildfire photog...</td>\n",
       "      <td>1</td>\n",
       "      <td>1</td>\n",
       "    </tr>\n",
       "    <tr>\n",
       "      <td>122334</td>\n",
       "      <td>2019-02-04 01:52:33+00:00</td>\n",
       "      <td>I wonder where you were for the Ca wildfires S...</td>\n",
       "      <td>1</td>\n",
       "      <td>1</td>\n",
       "    </tr>\n",
       "    <tr>\n",
       "      <td>122557</td>\n",
       "      <td>2019-02-04 01:52:52+00:00</td>\n",
       "      <td>Don t forget throttled first responders battli...</td>\n",
       "      <td>1</td>\n",
       "      <td>1</td>\n",
       "    </tr>\n",
       "    <tr>\n",
       "      <td>125252</td>\n",
       "      <td>2019-02-04 01:56:40+00:00</td>\n",
       "      <td>Are you kidding me wireless throttled data to ...</td>\n",
       "      <td>1</td>\n",
       "      <td>1</td>\n",
       "    </tr>\n",
       "    <tr>\n",
       "      <td>126355</td>\n",
       "      <td>2019-02-04 01:58:14+00:00</td>\n",
       "      <td>RT Brown Rust Gold Infinity Scarf Hand Knit Fa...</td>\n",
       "      <td>1</td>\n",
       "      <td>1</td>\n",
       "    </tr>\n",
       "  </tbody>\n",
       "</table>\n",
       "</div>"
      ],
      "text/plain": [
       "                             date  \\\n",
       "16089   2019-02-03 09:46:50+00:00   \n",
       "61221   2019-02-03 11:45:19+00:00   \n",
       "122334  2019-02-04 01:52:33+00:00   \n",
       "122557  2019-02-04 01:52:52+00:00   \n",
       "125252  2019-02-04 01:56:40+00:00   \n",
       "126355  2019-02-04 01:58:14+00:00   \n",
       "\n",
       "                                               text_clean  label  preds  \n",
       "16089            sadness crept and spread like a wildfire      1      1  \n",
       "61221   Tri colored Heron birds nature wildfire photog...      1      1  \n",
       "122334  I wonder where you were for the Ca wildfires S...      1      1  \n",
       "122557  Don t forget throttled first responders battli...      1      1  \n",
       "125252  Are you kidding me wireless throttled data to ...      1      1  \n",
       "126355  RT Brown Rust Gold Infinity Scarf Hand Knit Fa...      1      1  "
      ]
     },
     "execution_count": 19,
     "metadata": {},
     "output_type": "execute_result"
    }
   ],
   "source": [
    "df_test[df_test['label']==1]"
   ]
  },
  {
   "cell_type": "code",
   "execution_count": 20,
   "metadata": {},
   "outputs": [
    {
     "name": "stdout",
     "output_type": "stream",
     "text": [
      "['wildfires', 'wildfire', '10', 'update', 'rt', 'know', 'don', 'people', 'new', 'like', 'yes', 'years', 'year', 'ya', 'worst', 'world', 'work', 'won', 'women', 'win']\n",
      "[0.6761, 0.2994, 0.0065, 0.0048, 0.0032, 0.0029, 0.0021, 0.0019, 0.0017, 0.0014, 0.0, 0.0, 0.0, 0.0, 0.0, 0.0, 0.0, 0.0, 0.0, 0.0]\n"
     ]
    }
   ],
   "source": [
    "# Visualize the top 20 import words\n",
    "import seaborn as sns\n",
    "feature_import_list = sorted(zip(map(lambda x: round(x, 4), xgb_cvec_new.feature_importances_), names_new), reverse=True)\n",
    "feature_import = feature_import_list[:20]\n",
    "feature_name = []\n",
    "importance_value = []\n",
    "for i in range(20):\n",
    "    importance_value.append(feature_import[i][0])\n",
    "    feature_name.append(feature_import[i][1])\n",
    "print(feature_name)\n",
    "print(importance_value)"
   ]
  },
  {
   "cell_type": "code",
   "execution_count": 21,
   "metadata": {},
   "outputs": [
    {
     "data": {
      "image/png": "[encoded data removed]",
      "text/plain": [
       "<Figure size 1008x432 with 1 Axes>"
      ]
     },
     "metadata": {
      "needs_background": "light"
     },
     "output_type": "display_data"
    }
   ],
   "source": [
    "import matplotlib.pyplot as plt\n",
    "plt.figure(figsize = (14,6))\n",
    "sns.barplot(x=feature_name, y=importance_value);"
   ]
  },
  {
   "cell_type": "code",
   "execution_count": 22,
   "metadata": {},
   "outputs": [
    {
     "name": "stderr",
     "output_type": "stream",
     "text": [
      "Setting feature_perturbation = \"tree_path_dependent\" because no background data was given.\n"
     ]
    },
    {
     "data": {
      "image/png": "[encoded data removed]",
      "text/plain": [
       "<Figure size 576x684 with 1 Axes>"
      ]
     },
     "metadata": {
      "needs_background": "light"
     },
     "output_type": "display_data"
    }
   ],
   "source": [
    "# Use shap to show the words importance \n",
    "shap_values = shap.TreeExplainer(xgb_cvec_new).shap_values(X_cvec_new)\n",
    "shap.summary_plot(shap_values, X_cvec_new, plot_type=\"bar\", feature_names=cvec_new.get_feature_names())"
   ]
  },
  {
   "cell_type": "code",
   "execution_count": 23,
   "metadata": {},
   "outputs": [
    {
     "data": {
      "text/plain": [
       "array([[-0.00444057,  0.        ,  0.        , ...,  0.        ,\n",
       "         0.        ,  0.        ],\n",
       "       [-0.00449423,  0.        ,  0.        , ...,  0.        ,\n",
       "         0.        ,  0.        ],\n",
       "       [-0.00444057,  0.        ,  0.        , ...,  0.        ,\n",
       "         0.        ,  0.        ],\n",
       "       ...,\n",
       "       [-0.00921797,  0.        ,  0.        , ...,  0.        ,\n",
       "         0.        ,  0.        ],\n",
       "       [-0.00921797,  0.        ,  0.        , ...,  0.        ,\n",
       "         0.        ,  0.        ],\n",
       "       [-0.00921797,  0.        ,  0.        , ...,  0.        ,\n",
       "         0.        ,  0.        ]], dtype=float32)"
      ]
     },
     "execution_count": 23,
     "metadata": {},
     "output_type": "execute_result"
    }
   ],
   "source": [
    "shap_values"
   ]
  },
  {
   "cell_type": "code",
   "execution_count": 25,
   "metadata": {},
   "outputs": [
    {
     "data": {
      "image/png": "[encoded data removed]",
      "text/plain": [
       "<Figure size 576x684 with 2 Axes>"
      ]
     },
     "metadata": {
      "needs_background": "light"
     },
     "output_type": "display_data"
    }
   ],
   "source": [
    "shap.summary_plot(shap_values, X_cvec_new,feature_names=cvec_new.get_feature_names());"
   ]
  },
  {
   "cell_type": "code",
   "execution_count": 26,
   "metadata": {},
   "outputs": [
    {
     "data": {
      "text/plain": [
       "GridSearchCV(cv=5, error_score=nan,\n",
       "             estimator=XGBClassifier(base_score=0.5, booster='gbtree',\n",
       "                                     colsample_bylevel=1, colsample_bynode=1,\n",
       "                                     colsample_bytree=1, gamma=0,\n",
       "                                     learning_rate=0.1, max_delta_step=0,\n",
       "                                     max_depth=3, min_child_weight=1,\n",
       "                                     missing=None, n_estimators=100, n_jobs=1,\n",
       "                                     nthread=None, objective='binary:logistic',\n",
       "                                     random_state=0, reg_alpha=0, reg_lambda=1,\n",
       "                                     scale_pos_weight=1, seed=None, silent=None,\n",
       "                                     subsample=1, verbosity=1),\n",
       "             iid='deprecated', n_jobs=None,\n",
       "             param_grid={'learning_rate': [0.08, 0.1, 0.12],\n",
       "                         'max_depth': [2, 3, 4],\n",
       "                         'n_estimators': [100, 125, 150]},\n",
       "             pre_dispatch='2*n_jobs', refit=True, return_train_score=False,\n",
       "             scoring=None, verbose=0)"
      ]
     },
     "execution_count": 26,
     "metadata": {},
     "output_type": "execute_result"
    }
   ],
   "source": [
    "# Use GridSearchCV to tuning the best parameters in RandomForestsClassifier\n",
    "xgb_params = {\n",
    "    'max_depth':[2,3,4],\n",
    "    'n_estimators':[100,125,150],\n",
    "    'learning_rate':[0.08, 0.1, 0.12]\n",
    "}\n",
    "\n",
    "\n",
    "gs = GridSearchCV(xgb_cvec_new, \n",
    "                 param_grid=xgb_params,\n",
    "                 cv=5)\n",
    "\n",
    "gs.fit(X_cvec_new, y)"
   ]
  },
  {
   "cell_type": "code",
   "execution_count": 27,
   "metadata": {},
   "outputs": [
    {
     "name": "stdout",
     "output_type": "stream",
     "text": [
      "The best score of gridsearch is 0.996826196070909\n",
      "The best parameter of gridsearch is {'learning_rate': 0.08, 'max_depth': 2, 'n_estimators': 100}\n"
     ]
    }
   ],
   "source": [
    "print(f'The best score of gridsearch is {gs.best_score_}')\n",
    "print(f'The best parameter of gridsearch is {gs.best_params_}')"
   ]
  },
  {
   "cell_type": "markdown",
   "metadata": {},
   "source": [
    "## Use TfidfVectorizer"
   ]
  },
  {
   "cell_type": "code",
   "execution_count": 28,
   "metadata": {},
   "outputs": [
    {
     "data": {
      "text/plain": [
       "XGBClassifier(base_score=0.5, booster='gbtree', colsample_bylevel=1,\n",
       "              colsample_bynode=1, colsample_bytree=1, gamma=0,\n",
       "              learning_rate=0.1, max_delta_step=0, max_depth=3,\n",
       "              min_child_weight=1, missing=None, n_estimators=100, n_jobs=1,\n",
       "              nthread=None, objective='binary:logistic', random_state=0,\n",
       "              reg_alpha=0, reg_lambda=1, scale_pos_weight=1, seed=None,\n",
       "              silent=None, subsample=1, verbosity=1)"
      ]
     },
     "execution_count": 28,
     "metadata": {},
     "output_type": "execute_result"
    }
   ],
   "source": [
    "tfidf = TfidfVectorizer(stop_words = stop_words_new, max_features=200)\n",
    "X_tfidf = tfidf.fit_transform(X)\n",
    "xgb_tfidf = XGBClassifier()\n",
    "xgb_tfidf.fit(X_tfidf, y)"
   ]
  },
  {
   "cell_type": "code",
   "execution_count": 29,
   "metadata": {},
   "outputs": [
    {
     "data": {
      "text/plain": [
       "0.996826423390359"
      ]
     },
     "execution_count": 29,
     "metadata": {},
     "output_type": "execute_result"
    }
   ],
   "source": [
    "cross_val_score(xgb_tfidf, X_tfidf, y, cv=10).mean()"
   ]
  },
  {
   "cell_type": "code",
   "execution_count": 30,
   "metadata": {},
   "outputs": [
    {
     "name": "stdout",
     "output_type": "stream",
     "text": [
      "The accuracy of training is 0.997\n",
      "[[6000    0]\n",
      " [  21  595]]\n",
      "******************************\n",
      "Ture Negative 6000\n",
      " Flase Negative 21\n",
      " True Positive 595 \n",
      " False Positive 0\n"
     ]
    }
   ],
   "source": [
    "print(f'The accuracy of training is {round(xgb_tfidf.score(X_tfidf, y),3)}')\n",
    "y_preds1 = xgb_tfidf.predict(X_tfidf)\n",
    "print(confusion_matrix(y, y_preds1))\n",
    "print('*'*30)\n",
    "[[tn, fp],[fn, tp] ]= confusion_matrix(y, y_preds1)\n",
    "print(f'Ture Negative {tn}\\n Flase Negative {fn}\\n True Positive {tp} \\n False Positive {fp}')"
   ]
  },
  {
   "cell_type": "code",
   "execution_count": null,
   "metadata": {},
   "outputs": [],
   "source": []
  },
  {
   "cell_type": "code",
   "execution_count": null,
   "metadata": {},
   "outputs": [],
   "source": []
  }
 ],
 "metadata": {
  "kernelspec": {
   "display_name": "Python 3",
   "language": "python",
   "name": "python3"
  },
  "language_info": {
   "codemirror_mode": {
    "name": "ipython",
    "version": 3
   },
   "file_extension": ".py",
   "mimetype": "text/x-python",
   "name": "python",
   "nbconvert_exporter": "python",
   "pygments_lexer": "ipython3",
   "version": "3.7.4"
  }
 },
 "nbformat": 4,
 "nbformat_minor": 2
}
